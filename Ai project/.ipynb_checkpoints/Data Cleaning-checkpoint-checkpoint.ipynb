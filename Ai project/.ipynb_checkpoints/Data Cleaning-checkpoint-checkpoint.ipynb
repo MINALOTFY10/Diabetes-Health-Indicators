{
 "cells": [
  {
   "cell_type": "code",
   "execution_count": 21,
   "id": "eb4f9469",
   "metadata": {
    "pycharm": {
     "name": "#%%\n"
    }
   },
   "outputs": [],
   "source": [
    "import numpy as np\n",
    "import pandas as pd\n",
    "import matplotlib.pyplot as plt\n",
    "import seaborn as sns\n",
    "from sklearn.model_selection import train_test_split\n"
   ]
  },
  {
   "cell_type": "markdown",
   "id": "d9230a5b",
   "metadata": {
    "pycharm": {
     "name": "#%% md\n"
    }
   },
   "source": [
    "# Data Collection\n"
   ]
  },
  {
   "cell_type": "code",
   "execution_count": 22,
   "id": "4fac21f7",
   "metadata": {
    "pycharm": {
     "name": "#%%\n"
    }
   },
   "outputs": [
    {
     "data": {
      "text/html": [
       "<div>\n",
       "<style scoped>\n",
       "    .dataframe tbody tr th:only-of-type {\n",
       "        vertical-align: middle;\n",
       "    }\n",
       "\n",
       "    .dataframe tbody tr th {\n",
       "        vertical-align: top;\n",
       "    }\n",
       "\n",
       "    .dataframe thead th {\n",
       "        text-align: right;\n",
       "    }\n",
       "</style>\n",
       "<table border=\"1\" class=\"dataframe\">\n",
       "  <thead>\n",
       "    <tr style=\"text-align: right;\">\n",
       "      <th></th>\n",
       "      <th>Diabetes_binary</th>\n",
       "      <th>HighBP</th>\n",
       "      <th>HighChol</th>\n",
       "      <th>CholCheck</th>\n",
       "      <th>BMI</th>\n",
       "      <th>Smoker</th>\n",
       "      <th>Stroke</th>\n",
       "      <th>HeartDiseaseorAttack</th>\n",
       "      <th>PhysActivity</th>\n",
       "      <th>Fruits</th>\n",
       "      <th>...</th>\n",
       "      <th>AnyHealthcare</th>\n",
       "      <th>NoDocbcCost</th>\n",
       "      <th>GenHlth</th>\n",
       "      <th>MentHlth</th>\n",
       "      <th>PhysHlth</th>\n",
       "      <th>DiffWalk</th>\n",
       "      <th>Sex</th>\n",
       "      <th>Age</th>\n",
       "      <th>Education</th>\n",
       "      <th>Income</th>\n",
       "    </tr>\n",
       "  </thead>\n",
       "  <tbody>\n",
       "    <tr>\n",
       "      <th>0</th>\n",
       "      <td>0.0</td>\n",
       "      <td>1.0</td>\n",
       "      <td>1.0</td>\n",
       "      <td>1.0</td>\n",
       "      <td>40.0</td>\n",
       "      <td>1.0</td>\n",
       "      <td>0.0</td>\n",
       "      <td>0.0</td>\n",
       "      <td>0.0</td>\n",
       "      <td>0.0</td>\n",
       "      <td>...</td>\n",
       "      <td>1.0</td>\n",
       "      <td>0.0</td>\n",
       "      <td>5.0</td>\n",
       "      <td>18.0</td>\n",
       "      <td>15.0</td>\n",
       "      <td>1.0</td>\n",
       "      <td>0.0</td>\n",
       "      <td>9.0</td>\n",
       "      <td>4.0</td>\n",
       "      <td>3.0</td>\n",
       "    </tr>\n",
       "    <tr>\n",
       "      <th>1</th>\n",
       "      <td>0.0</td>\n",
       "      <td>0.0</td>\n",
       "      <td>0.0</td>\n",
       "      <td>0.0</td>\n",
       "      <td>25.0</td>\n",
       "      <td>1.0</td>\n",
       "      <td>0.0</td>\n",
       "      <td>0.0</td>\n",
       "      <td>1.0</td>\n",
       "      <td>0.0</td>\n",
       "      <td>...</td>\n",
       "      <td>0.0</td>\n",
       "      <td>1.0</td>\n",
       "      <td>3.0</td>\n",
       "      <td>0.0</td>\n",
       "      <td>0.0</td>\n",
       "      <td>0.0</td>\n",
       "      <td>0.0</td>\n",
       "      <td>7.0</td>\n",
       "      <td>6.0</td>\n",
       "      <td>1.0</td>\n",
       "    </tr>\n",
       "    <tr>\n",
       "      <th>2</th>\n",
       "      <td>0.0</td>\n",
       "      <td>1.0</td>\n",
       "      <td>1.0</td>\n",
       "      <td>1.0</td>\n",
       "      <td>28.0</td>\n",
       "      <td>0.0</td>\n",
       "      <td>0.0</td>\n",
       "      <td>0.0</td>\n",
       "      <td>0.0</td>\n",
       "      <td>1.0</td>\n",
       "      <td>...</td>\n",
       "      <td>1.0</td>\n",
       "      <td>1.0</td>\n",
       "      <td>5.0</td>\n",
       "      <td>30.0</td>\n",
       "      <td>30.0</td>\n",
       "      <td>1.0</td>\n",
       "      <td>0.0</td>\n",
       "      <td>9.0</td>\n",
       "      <td>4.0</td>\n",
       "      <td>8.0</td>\n",
       "    </tr>\n",
       "    <tr>\n",
       "      <th>3</th>\n",
       "      <td>0.0</td>\n",
       "      <td>1.0</td>\n",
       "      <td>0.0</td>\n",
       "      <td>1.0</td>\n",
       "      <td>27.0</td>\n",
       "      <td>0.0</td>\n",
       "      <td>0.0</td>\n",
       "      <td>0.0</td>\n",
       "      <td>1.0</td>\n",
       "      <td>1.0</td>\n",
       "      <td>...</td>\n",
       "      <td>1.0</td>\n",
       "      <td>0.0</td>\n",
       "      <td>2.0</td>\n",
       "      <td>0.0</td>\n",
       "      <td>0.0</td>\n",
       "      <td>0.0</td>\n",
       "      <td>0.0</td>\n",
       "      <td>11.0</td>\n",
       "      <td>3.0</td>\n",
       "      <td>6.0</td>\n",
       "    </tr>\n",
       "    <tr>\n",
       "      <th>4</th>\n",
       "      <td>0.0</td>\n",
       "      <td>1.0</td>\n",
       "      <td>1.0</td>\n",
       "      <td>1.0</td>\n",
       "      <td>24.0</td>\n",
       "      <td>0.0</td>\n",
       "      <td>0.0</td>\n",
       "      <td>0.0</td>\n",
       "      <td>1.0</td>\n",
       "      <td>1.0</td>\n",
       "      <td>...</td>\n",
       "      <td>1.0</td>\n",
       "      <td>0.0</td>\n",
       "      <td>2.0</td>\n",
       "      <td>3.0</td>\n",
       "      <td>0.0</td>\n",
       "      <td>0.0</td>\n",
       "      <td>0.0</td>\n",
       "      <td>11.0</td>\n",
       "      <td>5.0</td>\n",
       "      <td>4.0</td>\n",
       "    </tr>\n",
       "  </tbody>\n",
       "</table>\n",
       "<p>5 rows × 22 columns</p>\n",
       "</div>"
      ],
      "text/plain": [
       "   Diabetes_binary  HighBP  HighChol  CholCheck   BMI  Smoker  Stroke  \\\n",
       "0              0.0     1.0       1.0        1.0  40.0     1.0     0.0   \n",
       "1              0.0     0.0       0.0        0.0  25.0     1.0     0.0   \n",
       "2              0.0     1.0       1.0        1.0  28.0     0.0     0.0   \n",
       "3              0.0     1.0       0.0        1.0  27.0     0.0     0.0   \n",
       "4              0.0     1.0       1.0        1.0  24.0     0.0     0.0   \n",
       "\n",
       "   HeartDiseaseorAttack  PhysActivity  Fruits  ...  AnyHealthcare  \\\n",
       "0                   0.0           0.0     0.0  ...            1.0   \n",
       "1                   0.0           1.0     0.0  ...            0.0   \n",
       "2                   0.0           0.0     1.0  ...            1.0   \n",
       "3                   0.0           1.0     1.0  ...            1.0   \n",
       "4                   0.0           1.0     1.0  ...            1.0   \n",
       "\n",
       "   NoDocbcCost  GenHlth  MentHlth  PhysHlth  DiffWalk  Sex   Age  Education  \\\n",
       "0          0.0      5.0      18.0      15.0       1.0  0.0   9.0        4.0   \n",
       "1          1.0      3.0       0.0       0.0       0.0  0.0   7.0        6.0   \n",
       "2          1.0      5.0      30.0      30.0       1.0  0.0   9.0        4.0   \n",
       "3          0.0      2.0       0.0       0.0       0.0  0.0  11.0        3.0   \n",
       "4          0.0      2.0       3.0       0.0       0.0  0.0  11.0        5.0   \n",
       "\n",
       "   Income  \n",
       "0     3.0  \n",
       "1     1.0  \n",
       "2     8.0  \n",
       "3     6.0  \n",
       "4     4.0  \n",
       "\n",
       "[5 rows x 22 columns]"
      ]
     },
     "execution_count": 22,
     "metadata": {},
     "output_type": "execute_result"
    }
   ],
   "source": [
    "df=pd.read_csv(\"diabetes_binary_health_indicators_BRFSS2015.csv\")\n",
    "df.head()"
   ]
  },
  {
   "cell_type": "code",
   "execution_count": 23,
   "id": "be284ca8",
   "metadata": {
    "pycharm": {
     "name": "#%%\n"
    }
   },
   "outputs": [
    {
     "name": "stdout",
     "output_type": "stream",
     "text": [
      "<class 'pandas.core.frame.DataFrame'>\n",
      "RangeIndex: 253680 entries, 0 to 253679\n",
      "Data columns (total 22 columns):\n",
      " #   Column                Non-Null Count   Dtype  \n",
      "---  ------                --------------   -----  \n",
      " 0   Diabetes_binary       253680 non-null  float64\n",
      " 1   HighBP                253680 non-null  float64\n",
      " 2   HighChol              253680 non-null  float64\n",
      " 3   CholCheck             253680 non-null  float64\n",
      " 4   BMI                   253680 non-null  float64\n",
      " 5   Smoker                253680 non-null  float64\n",
      " 6   Stroke                253680 non-null  float64\n",
      " 7   HeartDiseaseorAttack  253680 non-null  float64\n",
      " 8   PhysActivity          253680 non-null  float64\n",
      " 9   Fruits                253680 non-null  float64\n",
      " 10  Veggies               253680 non-null  float64\n",
      " 11  HvyAlcoholConsump     253680 non-null  float64\n",
      " 12  AnyHealthcare         253680 non-null  float64\n",
      " 13  NoDocbcCost           253680 non-null  float64\n",
      " 14  GenHlth               253680 non-null  float64\n",
      " 15  MentHlth              253680 non-null  float64\n",
      " 16  PhysHlth              253680 non-null  float64\n",
      " 17  DiffWalk              253680 non-null  float64\n",
      " 18  Sex                   253680 non-null  float64\n",
      " 19  Age                   253680 non-null  float64\n",
      " 20  Education             253680 non-null  float64\n",
      " 21  Income                253680 non-null  float64\n",
      "dtypes: float64(22)\n",
      "memory usage: 42.6 MB\n"
     ]
    }
   ],
   "source": [
    "df.info()"
   ]
  },
  {
   "cell_type": "code",
   "execution_count": 24,
   "id": "d0335d58",
   "metadata": {
    "pycharm": {
     "name": "#%%\n"
    }
   },
   "outputs": [
    {
     "data": {
      "text/plain": [
       "(253680, 22)"
      ]
     },
     "execution_count": 24,
     "metadata": {},
     "output_type": "execute_result"
    }
   ],
   "source": [
    "df.shape"
   ]
  },
  {
   "cell_type": "code",
   "execution_count": 25,
   "id": "ab9dc663",
   "metadata": {
    "pycharm": {
     "name": "#%%\n"
    }
   },
   "outputs": [
    {
     "data": {
      "text/html": [
       "<div>\n",
       "<style scoped>\n",
       "    .dataframe tbody tr th:only-of-type {\n",
       "        vertical-align: middle;\n",
       "    }\n",
       "\n",
       "    .dataframe tbody tr th {\n",
       "        vertical-align: top;\n",
       "    }\n",
       "\n",
       "    .dataframe thead th {\n",
       "        text-align: right;\n",
       "    }\n",
       "</style>\n",
       "<table border=\"1\" class=\"dataframe\">\n",
       "  <thead>\n",
       "    <tr style=\"text-align: right;\">\n",
       "      <th></th>\n",
       "      <th>Diabetes_binary</th>\n",
       "      <th>HighBP</th>\n",
       "      <th>HighChol</th>\n",
       "      <th>CholCheck</th>\n",
       "      <th>BMI</th>\n",
       "      <th>Smoker</th>\n",
       "      <th>Stroke</th>\n",
       "      <th>HeartDiseaseorAttack</th>\n",
       "      <th>PhysActivity</th>\n",
       "      <th>Fruits</th>\n",
       "      <th>...</th>\n",
       "      <th>AnyHealthcare</th>\n",
       "      <th>NoDocbcCost</th>\n",
       "      <th>GenHlth</th>\n",
       "      <th>MentHlth</th>\n",
       "      <th>PhysHlth</th>\n",
       "      <th>DiffWalk</th>\n",
       "      <th>Sex</th>\n",
       "      <th>Age</th>\n",
       "      <th>Education</th>\n",
       "      <th>Income</th>\n",
       "    </tr>\n",
       "  </thead>\n",
       "  <tbody>\n",
       "    <tr>\n",
       "      <th>1160</th>\n",
       "      <td>0.0</td>\n",
       "      <td>0.0</td>\n",
       "      <td>1.0</td>\n",
       "      <td>1.0</td>\n",
       "      <td>30.0</td>\n",
       "      <td>0.0</td>\n",
       "      <td>0.0</td>\n",
       "      <td>0.0</td>\n",
       "      <td>1.0</td>\n",
       "      <td>1.0</td>\n",
       "      <td>...</td>\n",
       "      <td>1.0</td>\n",
       "      <td>0.0</td>\n",
       "      <td>1.0</td>\n",
       "      <td>0.0</td>\n",
       "      <td>1.0</td>\n",
       "      <td>0.0</td>\n",
       "      <td>0.0</td>\n",
       "      <td>7.0</td>\n",
       "      <td>6.0</td>\n",
       "      <td>8.0</td>\n",
       "    </tr>\n",
       "    <tr>\n",
       "      <th>125682</th>\n",
       "      <td>0.0</td>\n",
       "      <td>0.0</td>\n",
       "      <td>0.0</td>\n",
       "      <td>1.0</td>\n",
       "      <td>26.0</td>\n",
       "      <td>0.0</td>\n",
       "      <td>0.0</td>\n",
       "      <td>0.0</td>\n",
       "      <td>1.0</td>\n",
       "      <td>1.0</td>\n",
       "      <td>...</td>\n",
       "      <td>1.0</td>\n",
       "      <td>0.0</td>\n",
       "      <td>2.0</td>\n",
       "      <td>0.0</td>\n",
       "      <td>0.0</td>\n",
       "      <td>0.0</td>\n",
       "      <td>0.0</td>\n",
       "      <td>8.0</td>\n",
       "      <td>5.0</td>\n",
       "      <td>6.0</td>\n",
       "    </tr>\n",
       "    <tr>\n",
       "      <th>58184</th>\n",
       "      <td>0.0</td>\n",
       "      <td>0.0</td>\n",
       "      <td>0.0</td>\n",
       "      <td>0.0</td>\n",
       "      <td>33.0</td>\n",
       "      <td>1.0</td>\n",
       "      <td>0.0</td>\n",
       "      <td>0.0</td>\n",
       "      <td>0.0</td>\n",
       "      <td>0.0</td>\n",
       "      <td>...</td>\n",
       "      <td>1.0</td>\n",
       "      <td>0.0</td>\n",
       "      <td>3.0</td>\n",
       "      <td>0.0</td>\n",
       "      <td>0.0</td>\n",
       "      <td>0.0</td>\n",
       "      <td>1.0</td>\n",
       "      <td>3.0</td>\n",
       "      <td>5.0</td>\n",
       "      <td>6.0</td>\n",
       "    </tr>\n",
       "    <tr>\n",
       "      <th>107307</th>\n",
       "      <td>0.0</td>\n",
       "      <td>0.0</td>\n",
       "      <td>1.0</td>\n",
       "      <td>1.0</td>\n",
       "      <td>29.0</td>\n",
       "      <td>1.0</td>\n",
       "      <td>0.0</td>\n",
       "      <td>0.0</td>\n",
       "      <td>1.0</td>\n",
       "      <td>1.0</td>\n",
       "      <td>...</td>\n",
       "      <td>1.0</td>\n",
       "      <td>0.0</td>\n",
       "      <td>1.0</td>\n",
       "      <td>0.0</td>\n",
       "      <td>0.0</td>\n",
       "      <td>0.0</td>\n",
       "      <td>1.0</td>\n",
       "      <td>8.0</td>\n",
       "      <td>6.0</td>\n",
       "      <td>8.0</td>\n",
       "    </tr>\n",
       "    <tr>\n",
       "      <th>199414</th>\n",
       "      <td>0.0</td>\n",
       "      <td>1.0</td>\n",
       "      <td>1.0</td>\n",
       "      <td>1.0</td>\n",
       "      <td>31.0</td>\n",
       "      <td>0.0</td>\n",
       "      <td>0.0</td>\n",
       "      <td>0.0</td>\n",
       "      <td>1.0</td>\n",
       "      <td>1.0</td>\n",
       "      <td>...</td>\n",
       "      <td>1.0</td>\n",
       "      <td>0.0</td>\n",
       "      <td>3.0</td>\n",
       "      <td>0.0</td>\n",
       "      <td>5.0</td>\n",
       "      <td>0.0</td>\n",
       "      <td>0.0</td>\n",
       "      <td>13.0</td>\n",
       "      <td>4.0</td>\n",
       "      <td>5.0</td>\n",
       "    </tr>\n",
       "  </tbody>\n",
       "</table>\n",
       "<p>5 rows × 22 columns</p>\n",
       "</div>"
      ],
      "text/plain": [
       "        Diabetes_binary  HighBP  HighChol  CholCheck   BMI  Smoker  Stroke  \\\n",
       "1160                0.0     0.0       1.0        1.0  30.0     0.0     0.0   \n",
       "125682              0.0     0.0       0.0        1.0  26.0     0.0     0.0   \n",
       "58184               0.0     0.0       0.0        0.0  33.0     1.0     0.0   \n",
       "107307              0.0     0.0       1.0        1.0  29.0     1.0     0.0   \n",
       "199414              0.0     1.0       1.0        1.0  31.0     0.0     0.0   \n",
       "\n",
       "        HeartDiseaseorAttack  PhysActivity  Fruits  ...  AnyHealthcare  \\\n",
       "1160                     0.0           1.0     1.0  ...            1.0   \n",
       "125682                   0.0           1.0     1.0  ...            1.0   \n",
       "58184                    0.0           0.0     0.0  ...            1.0   \n",
       "107307                   0.0           1.0     1.0  ...            1.0   \n",
       "199414                   0.0           1.0     1.0  ...            1.0   \n",
       "\n",
       "        NoDocbcCost  GenHlth  MentHlth  PhysHlth  DiffWalk  Sex   Age  \\\n",
       "1160            0.0      1.0       0.0       1.0       0.0  0.0   7.0   \n",
       "125682          0.0      2.0       0.0       0.0       0.0  0.0   8.0   \n",
       "58184           0.0      3.0       0.0       0.0       0.0  1.0   3.0   \n",
       "107307          0.0      1.0       0.0       0.0       0.0  1.0   8.0   \n",
       "199414          0.0      3.0       0.0       5.0       0.0  0.0  13.0   \n",
       "\n",
       "        Education  Income  \n",
       "1160          6.0     8.0  \n",
       "125682        5.0     6.0  \n",
       "58184         5.0     6.0  \n",
       "107307        6.0     8.0  \n",
       "199414        4.0     5.0  \n",
       "\n",
       "[5 rows x 22 columns]"
      ]
     },
     "execution_count": 25,
     "metadata": {},
     "output_type": "execute_result"
    }
   ],
   "source": [
    "df.sample(5)"
   ]
  },
  {
   "cell_type": "code",
   "execution_count": 26,
   "id": "7265755f",
   "metadata": {
    "pycharm": {
     "name": "#%%\n"
    }
   },
   "outputs": [
    {
     "data": {
      "text/plain": [
       "Index(['Diabetes_binary', 'HighBP', 'HighChol', 'CholCheck', 'BMI', 'Smoker',\n",
       "       'Stroke', 'HeartDiseaseorAttack', 'PhysActivity', 'Fruits', 'Veggies',\n",
       "       'HvyAlcoholConsump', 'AnyHealthcare', 'NoDocbcCost', 'GenHlth',\n",
       "       'MentHlth', 'PhysHlth', 'DiffWalk', 'Sex', 'Age', 'Education',\n",
       "       'Income'],\n",
       "      dtype='object')"
      ]
     },
     "execution_count": 26,
     "metadata": {},
     "output_type": "execute_result"
    }
   ],
   "source": [
    "df.columns"
   ]
  },
  {
   "cell_type": "code",
   "execution_count": 27,
   "id": "62a13823",
   "metadata": {
    "pycharm": {
     "name": "#%%\n"
    }
   },
   "outputs": [
    {
     "data": {
      "text/html": [
       "<div>\n",
       "<style scoped>\n",
       "    .dataframe tbody tr th:only-of-type {\n",
       "        vertical-align: middle;\n",
       "    }\n",
       "\n",
       "    .dataframe tbody tr th {\n",
       "        vertical-align: top;\n",
       "    }\n",
       "\n",
       "    .dataframe thead th {\n",
       "        text-align: right;\n",
       "    }\n",
       "</style>\n",
       "<table border=\"1\" class=\"dataframe\">\n",
       "  <thead>\n",
       "    <tr style=\"text-align: right;\">\n",
       "      <th></th>\n",
       "      <th>Diabetes_yes_no</th>\n",
       "      <th>HighBP</th>\n",
       "      <th>HighChol</th>\n",
       "      <th>CholCheck</th>\n",
       "      <th>BMI</th>\n",
       "      <th>Smoker</th>\n",
       "      <th>Stroke</th>\n",
       "      <th>HeartDiseaseorAttack</th>\n",
       "      <th>PhysActivity</th>\n",
       "      <th>Fruits</th>\n",
       "      <th>...</th>\n",
       "      <th>AnyHealthcare</th>\n",
       "      <th>NoDocbcCost</th>\n",
       "      <th>GenHlth</th>\n",
       "      <th>MentHlth</th>\n",
       "      <th>PhysHlth</th>\n",
       "      <th>DiffWalk</th>\n",
       "      <th>Sex</th>\n",
       "      <th>Age</th>\n",
       "      <th>Education</th>\n",
       "      <th>Income</th>\n",
       "    </tr>\n",
       "  </thead>\n",
       "  <tbody>\n",
       "    <tr>\n",
       "      <th>0</th>\n",
       "      <td>0.0</td>\n",
       "      <td>1.0</td>\n",
       "      <td>1.0</td>\n",
       "      <td>1.0</td>\n",
       "      <td>40.0</td>\n",
       "      <td>1.0</td>\n",
       "      <td>0.0</td>\n",
       "      <td>0.0</td>\n",
       "      <td>0.0</td>\n",
       "      <td>0.0</td>\n",
       "      <td>...</td>\n",
       "      <td>1.0</td>\n",
       "      <td>0.0</td>\n",
       "      <td>5.0</td>\n",
       "      <td>18.0</td>\n",
       "      <td>15.0</td>\n",
       "      <td>1.0</td>\n",
       "      <td>0.0</td>\n",
       "      <td>9.0</td>\n",
       "      <td>4.0</td>\n",
       "      <td>3.0</td>\n",
       "    </tr>\n",
       "    <tr>\n",
       "      <th>1</th>\n",
       "      <td>0.0</td>\n",
       "      <td>0.0</td>\n",
       "      <td>0.0</td>\n",
       "      <td>0.0</td>\n",
       "      <td>25.0</td>\n",
       "      <td>1.0</td>\n",
       "      <td>0.0</td>\n",
       "      <td>0.0</td>\n",
       "      <td>1.0</td>\n",
       "      <td>0.0</td>\n",
       "      <td>...</td>\n",
       "      <td>0.0</td>\n",
       "      <td>1.0</td>\n",
       "      <td>3.0</td>\n",
       "      <td>0.0</td>\n",
       "      <td>0.0</td>\n",
       "      <td>0.0</td>\n",
       "      <td>0.0</td>\n",
       "      <td>7.0</td>\n",
       "      <td>6.0</td>\n",
       "      <td>1.0</td>\n",
       "    </tr>\n",
       "    <tr>\n",
       "      <th>2</th>\n",
       "      <td>0.0</td>\n",
       "      <td>1.0</td>\n",
       "      <td>1.0</td>\n",
       "      <td>1.0</td>\n",
       "      <td>28.0</td>\n",
       "      <td>0.0</td>\n",
       "      <td>0.0</td>\n",
       "      <td>0.0</td>\n",
       "      <td>0.0</td>\n",
       "      <td>1.0</td>\n",
       "      <td>...</td>\n",
       "      <td>1.0</td>\n",
       "      <td>1.0</td>\n",
       "      <td>5.0</td>\n",
       "      <td>30.0</td>\n",
       "      <td>30.0</td>\n",
       "      <td>1.0</td>\n",
       "      <td>0.0</td>\n",
       "      <td>9.0</td>\n",
       "      <td>4.0</td>\n",
       "      <td>8.0</td>\n",
       "    </tr>\n",
       "    <tr>\n",
       "      <th>3</th>\n",
       "      <td>0.0</td>\n",
       "      <td>1.0</td>\n",
       "      <td>0.0</td>\n",
       "      <td>1.0</td>\n",
       "      <td>27.0</td>\n",
       "      <td>0.0</td>\n",
       "      <td>0.0</td>\n",
       "      <td>0.0</td>\n",
       "      <td>1.0</td>\n",
       "      <td>1.0</td>\n",
       "      <td>...</td>\n",
       "      <td>1.0</td>\n",
       "      <td>0.0</td>\n",
       "      <td>2.0</td>\n",
       "      <td>0.0</td>\n",
       "      <td>0.0</td>\n",
       "      <td>0.0</td>\n",
       "      <td>0.0</td>\n",
       "      <td>11.0</td>\n",
       "      <td>3.0</td>\n",
       "      <td>6.0</td>\n",
       "    </tr>\n",
       "    <tr>\n",
       "      <th>4</th>\n",
       "      <td>0.0</td>\n",
       "      <td>1.0</td>\n",
       "      <td>1.0</td>\n",
       "      <td>1.0</td>\n",
       "      <td>24.0</td>\n",
       "      <td>0.0</td>\n",
       "      <td>0.0</td>\n",
       "      <td>0.0</td>\n",
       "      <td>1.0</td>\n",
       "      <td>1.0</td>\n",
       "      <td>...</td>\n",
       "      <td>1.0</td>\n",
       "      <td>0.0</td>\n",
       "      <td>2.0</td>\n",
       "      <td>3.0</td>\n",
       "      <td>0.0</td>\n",
       "      <td>0.0</td>\n",
       "      <td>0.0</td>\n",
       "      <td>11.0</td>\n",
       "      <td>5.0</td>\n",
       "      <td>4.0</td>\n",
       "    </tr>\n",
       "  </tbody>\n",
       "</table>\n",
       "<p>5 rows × 22 columns</p>\n",
       "</div>"
      ],
      "text/plain": [
       "   Diabetes_yes_no  HighBP  HighChol  CholCheck   BMI  Smoker  Stroke  \\\n",
       "0              0.0     1.0       1.0        1.0  40.0     1.0     0.0   \n",
       "1              0.0     0.0       0.0        0.0  25.0     1.0     0.0   \n",
       "2              0.0     1.0       1.0        1.0  28.0     0.0     0.0   \n",
       "3              0.0     1.0       0.0        1.0  27.0     0.0     0.0   \n",
       "4              0.0     1.0       1.0        1.0  24.0     0.0     0.0   \n",
       "\n",
       "   HeartDiseaseorAttack  PhysActivity  Fruits  ...  AnyHealthcare  \\\n",
       "0                   0.0           0.0     0.0  ...            1.0   \n",
       "1                   0.0           1.0     0.0  ...            0.0   \n",
       "2                   0.0           0.0     1.0  ...            1.0   \n",
       "3                   0.0           1.0     1.0  ...            1.0   \n",
       "4                   0.0           1.0     1.0  ...            1.0   \n",
       "\n",
       "   NoDocbcCost  GenHlth  MentHlth  PhysHlth  DiffWalk  Sex   Age  Education  \\\n",
       "0          0.0      5.0      18.0      15.0       1.0  0.0   9.0        4.0   \n",
       "1          1.0      3.0       0.0       0.0       0.0  0.0   7.0        6.0   \n",
       "2          1.0      5.0      30.0      30.0       1.0  0.0   9.0        4.0   \n",
       "3          0.0      2.0       0.0       0.0       0.0  0.0  11.0        3.0   \n",
       "4          0.0      2.0       3.0       0.0       0.0  0.0  11.0        5.0   \n",
       "\n",
       "   Income  \n",
       "0     3.0  \n",
       "1     1.0  \n",
       "2     8.0  \n",
       "3     6.0  \n",
       "4     4.0  \n",
       "\n",
       "[5 rows x 22 columns]"
      ]
     },
     "execution_count": 27,
     "metadata": {},
     "output_type": "execute_result"
    }
   ],
   "source": [
    "df.rename(columns={'Diabetes_binary': 'Diabetes_yes_no'}, inplace=True)\n",
    "df.head()"
   ]
  },
  {
   "cell_type": "code",
   "execution_count": 28,
   "id": "217f7be9",
   "metadata": {
    "pycharm": {
     "name": "#%%\n"
    }
   },
   "outputs": [
    {
     "data": {
      "text/plain": [
       "0.0    218334\n",
       "1.0     35346\n",
       "Name: Diabetes_yes_no, dtype: int64"
      ]
     },
     "execution_count": 28,
     "metadata": {},
     "output_type": "execute_result"
    }
   ],
   "source": [
    "Diabetes=df['Diabetes_yes_no']\n",
    "Diabetes.value_counts()\n"
   ]
  },
  {
   "cell_type": "code",
   "execution_count": 29,
   "id": "5b48257c",
   "metadata": {
    "pycharm": {
     "name": "#%%\n"
    }
   },
   "outputs": [
    {
     "data": {
      "text/plain": [
       "array([0., 1.])"
      ]
     },
     "execution_count": 29,
     "metadata": {},
     "output_type": "execute_result"
    }
   ],
   "source": [
    "df.Diabetes_yes_no.unique()"
   ]
  },
  {
   "cell_type": "code",
   "execution_count": 30,
   "id": "3e6eaa4a",
   "metadata": {
    "pycharm": {
     "name": "#%%\n"
    }
   },
   "outputs": [
    {
     "data": {
      "text/plain": [
       "0.0    218334\n",
       "1.0     35346\n",
       "Name: Diabetes_yes_no, dtype: int64"
      ]
     },
     "execution_count": 30,
     "metadata": {},
     "output_type": "execute_result"
    }
   ],
   "source": [
    "Diabetes=df['Diabetes_yes_no']\n",
    "Diabetes.value_counts()"
   ]
  },
  {
   "cell_type": "code",
   "execution_count": 31,
   "id": "9d6810b1",
   "metadata": {
    "pycharm": {
     "name": "#%%\n"
    }
   },
   "outputs": [
    {
     "data": {
      "text/plain": [
       "array([0., 1.])"
      ]
     },
     "execution_count": 31,
     "metadata": {},
     "output_type": "execute_result"
    }
   ],
   "source": [
    "df.Diabetes_yes_no.unique()"
   ]
  },
  {
   "cell_type": "raw",
   "id": "9574b170",
   "metadata": {
    "pycharm": {
     "name": "#%% raw\n"
    }
   },
   "source": [
    " 0=>Has Not Diabetes\n",
    " 1=>Has Diabetes"
   ]
  },
  {
   "cell_type": "code",
   "execution_count": 32,
   "id": "b7e390e1",
   "metadata": {
    "pycharm": {
     "name": "#%%\n"
    }
   },
   "outputs": [
    {
     "data": {
      "text/plain": [
       "array([1., 0.])"
      ]
     },
     "execution_count": 32,
     "metadata": {},
     "output_type": "execute_result"
    }
   ],
   "source": [
    "df.HighBP.unique()"
   ]
  },
  {
   "cell_type": "raw",
   "id": "64dfe7a3",
   "metadata": {
    "pycharm": {
     "name": "#%% raw\n"
    }
   },
   "source": [
    "0=>No High\n",
    "1=>High BP"
   ]
  },
  {
   "cell_type": "code",
   "execution_count": 33,
   "id": "7e93be16",
   "metadata": {
    "pycharm": {
     "name": "#%%\n"
    }
   },
   "outputs": [
    {
     "data": {
      "text/plain": [
       "array([1., 0.])"
      ]
     },
     "execution_count": 33,
     "metadata": {},
     "output_type": "execute_result"
    }
   ],
   "source": [
    "df.HighChol.unique()"
   ]
  },
  {
   "cell_type": "raw",
   "id": "ef8c32e0",
   "metadata": {
    "pycharm": {
     "name": "#%% raw\n"
    }
   },
   "source": [
    " 0=>No High Cholesterol\n",
    " 1=>High Cholesterol"
   ]
  },
  {
   "cell_type": "code",
   "execution_count": 34,
   "id": "a9436899",
   "metadata": {
    "pycharm": {
     "name": "#%%\n"
    }
   },
   "outputs": [
    {
     "data": {
      "text/plain": [
       "array([0., 1.])"
      ]
     },
     "execution_count": 34,
     "metadata": {},
     "output_type": "execute_result"
    }
   ],
   "source": [
    "df.HeartDiseaseorAttack.unique()"
   ]
  },
  {
   "cell_type": "raw",
   "id": "d38b3e23",
   "metadata": {
    "pycharm": {
     "name": "#%% raw\n"
    }
   },
   "source": [
    " 0=>No\n",
    " 1=>Yes"
   ]
  },
  {
   "cell_type": "code",
   "execution_count": 35,
   "id": "0f6a821e",
   "metadata": {
    "pycharm": {
     "name": "#%%\n"
    }
   },
   "outputs": [
    {
     "data": {
      "text/plain": [
       "array([5., 3., 2., 4., 1.])"
      ]
     },
     "execution_count": 35,
     "metadata": {},
     "output_type": "execute_result"
    }
   ],
   "source": [
    "df.GenHlth.unique()"
   ]
  },
  {
   "cell_type": "raw",
   "id": "a06c3491",
   "metadata": {
    "pycharm": {
     "name": "#%% raw\n"
    }
   },
   "source": [
    "1=>Excellent\n",
    "2=>Very Good\n",
    "3=>Good\n",
    "4=>Fair\n",
    "5=>Poor"
   ]
  },
  {
   "cell_type": "code",
   "execution_count": 36,
   "id": "3e243833",
   "metadata": {
    "pycharm": {
     "name": "#%%\n"
    }
   },
   "outputs": [
    {
     "data": {
      "text/plain": [
       "array([1., 0.])"
      ]
     },
     "execution_count": 36,
     "metadata": {},
     "output_type": "execute_result"
    }
   ],
   "source": [
    "df.DiffWalk.unique()"
   ]
  },
  {
   "cell_type": "raw",
   "id": "a47392e4",
   "metadata": {
    "pycharm": {
     "name": "#%% raw\n"
    }
   },
   "source": [
    "0=>No\n",
    "1=>Yes"
   ]
  },
  {
   "cell_type": "code",
   "execution_count": 37,
   "id": "81bc875c",
   "metadata": {
    "pycharm": {
     "name": "#%%\n"
    }
   },
   "outputs": [
    {
     "data": {
      "text/plain": [
       "array([0., 1.])"
      ]
     },
     "execution_count": 37,
     "metadata": {},
     "output_type": "execute_result"
    }
   ],
   "source": [
    "df.Sex.unique()"
   ]
  },
  {
   "cell_type": "raw",
   "id": "310c135f",
   "metadata": {
    "pycharm": {
     "name": "#%% raw\n"
    }
   },
   "source": [
    "0=>Female\n",
    "1=>Male"
   ]
  },
  {
   "cell_type": "code",
   "execution_count": 38,
   "id": "b20e3fce",
   "metadata": {
    "pycharm": {
     "name": "#%%\n"
    }
   },
   "outputs": [
    {
     "data": {
      "text/plain": [
       "array([ 9.,  7., 11., 10.,  8., 13.,  4.,  6.,  2., 12.,  5.,  1.,  3.])"
      ]
     },
     "execution_count": 38,
     "metadata": {},
     "output_type": "execute_result"
    }
   ],
   "source": [
    "df.Age.unique()"
   ]
  },
  {
   "cell_type": "raw",
   "id": "c12433c7",
   "metadata": {
    "pycharm": {
     "name": "#%% raw\n"
    }
   },
   "source": [
    "1=>18-24\n",
    "2=>25-30\n",
    "3=>31-35\n",
    "4=>36-40\n",
    "5=>41-46\n",
    "6=>47-51\n",
    "7=>52-56\n",
    "8=>57-61\n",
    "9=>62-66\n",
    "10=>67-71\n",
    "11=>72-76\n",
    "12=>77-80\n",
    "13=>over 80"
   ]
  },
  {
   "cell_type": "code",
   "execution_count": 39,
   "id": "c9a07bc2",
   "metadata": {
    "pycharm": {
     "name": "#%%\n"
    }
   },
   "outputs": [
    {
     "data": {
      "text/plain": [
       "array([4., 6., 3., 5., 2., 1.])"
      ]
     },
     "execution_count": 39,
     "metadata": {},
     "output_type": "execute_result"
    }
   ],
   "source": [
    "df.Education.unique()"
   ]
  },
  {
   "cell_type": "raw",
   "id": "29cc001c",
   "metadata": {
    "pycharm": {
     "name": "#%% raw\n"
    }
   },
   "source": [
    "1=>Never Attended School\n",
    "2=>primary\n",
    "3=>preparatory\n",
    "4=>secondary\n",
    "5=>university\n",
    "6=>graduate"
   ]
  },
  {
   "cell_type": "code",
   "execution_count": 40,
   "id": "1a2e3be4",
   "metadata": {
    "pycharm": {
     "name": "#%%\n"
    }
   },
   "outputs": [
    {
     "data": {
      "text/plain": [
       "array([3., 1., 8., 6., 4., 7., 2., 5.])"
      ]
     },
     "execution_count": 40,
     "metadata": {},
     "output_type": "execute_result"
    }
   ],
   "source": [
    "df.Income.unique()"
   ]
  },
  {
   "cell_type": "raw",
   "id": "851eff72",
   "metadata": {
    "pycharm": {
     "name": "#%% raw\n"
    }
   },
   "source": [
    "1=>less than or equal 3000\n",
    "2=>greater than 3000 and less than or equal 5000\n",
    "3=>greater than 5000 and less than or equal 10000\n",
    "4=>greater than 10000 and less than or equal 15000\n",
    "5=>greater than 15000 and less than or equal 20000\n",
    "6=>greater than 20000 and less than or equal 30000\n",
    "7=>greater than 30000 and less than 45000\n",
    "8=>45000 or More"
   ]
  },
  {
   "cell_type": "markdown",
   "id": "8abf3887",
   "metadata": {
    "pycharm": {
     "name": "#%% md\n"
    }
   },
   "source": [
    "# Data Cleaning"
   ]
  },
  {
   "cell_type": "code",
   "execution_count": 41,
   "id": "06654af0",
   "metadata": {
    "pycharm": {
     "name": "#%%\n"
    }
   },
   "outputs": [
    {
     "data": {
      "text/plain": [
       "Diabetes_yes_no         0\n",
       "HighBP                  0\n",
       "HighChol                0\n",
       "CholCheck               0\n",
       "BMI                     0\n",
       "Smoker                  0\n",
       "Stroke                  0\n",
       "HeartDiseaseorAttack    0\n",
       "PhysActivity            0\n",
       "Fruits                  0\n",
       "Veggies                 0\n",
       "HvyAlcoholConsump       0\n",
       "AnyHealthcare           0\n",
       "NoDocbcCost             0\n",
       "GenHlth                 0\n",
       "MentHlth                0\n",
       "PhysHlth                0\n",
       "DiffWalk                0\n",
       "Sex                     0\n",
       "Age                     0\n",
       "Education               0\n",
       "Income                  0\n",
       "dtype: int64"
      ]
     },
     "execution_count": 41,
     "metadata": {},
     "output_type": "execute_result"
    }
   ],
   "source": [
    "df.isna().sum()"
   ]
  },
  {
   "cell_type": "markdown",
   "id": "58f8351c",
   "metadata": {
    "pycharm": {
     "name": "#%% md\n"
    }
   },
   "source": [
    "# Visualize correlation"
   ]
  },
  {
   "cell_type": "code",
   "execution_count": 42,
   "id": "1c319696",
   "metadata": {
    "pycharm": {
     "name": "#%%\n"
    }
   },
   "outputs": [
    {
     "data": {
      "text/html": [
       "<div>\n",
       "<style scoped>\n",
       "    .dataframe tbody tr th:only-of-type {\n",
       "        vertical-align: middle;\n",
       "    }\n",
       "\n",
       "    .dataframe tbody tr th {\n",
       "        vertical-align: top;\n",
       "    }\n",
       "\n",
       "    .dataframe thead th {\n",
       "        text-align: right;\n",
       "    }\n",
       "</style>\n",
       "<table border=\"1\" class=\"dataframe\">\n",
       "  <thead>\n",
       "    <tr style=\"text-align: right;\">\n",
       "      <th></th>\n",
       "      <th>Diabetes_yes_no</th>\n",
       "      <th>HighBP</th>\n",
       "      <th>HighChol</th>\n",
       "      <th>CholCheck</th>\n",
       "      <th>BMI</th>\n",
       "      <th>Smoker</th>\n",
       "      <th>Stroke</th>\n",
       "      <th>HeartDiseaseorAttack</th>\n",
       "      <th>PhysActivity</th>\n",
       "      <th>Fruits</th>\n",
       "      <th>...</th>\n",
       "      <th>AnyHealthcare</th>\n",
       "      <th>NoDocbcCost</th>\n",
       "      <th>GenHlth</th>\n",
       "      <th>MentHlth</th>\n",
       "      <th>PhysHlth</th>\n",
       "      <th>DiffWalk</th>\n",
       "      <th>Sex</th>\n",
       "      <th>Age</th>\n",
       "      <th>Education</th>\n",
       "      <th>Income</th>\n",
       "    </tr>\n",
       "  </thead>\n",
       "  <tbody>\n",
       "    <tr>\n",
       "      <th>Diabetes_yes_no</th>\n",
       "      <td>1.000000</td>\n",
       "      <td>0.263129</td>\n",
       "      <td>0.200276</td>\n",
       "      <td>0.064761</td>\n",
       "      <td>0.216843</td>\n",
       "      <td>0.060789</td>\n",
       "      <td>0.105816</td>\n",
       "      <td>0.177282</td>\n",
       "      <td>-0.118133</td>\n",
       "      <td>-0.040779</td>\n",
       "      <td>...</td>\n",
       "      <td>0.016255</td>\n",
       "      <td>0.031433</td>\n",
       "      <td>0.293569</td>\n",
       "      <td>0.069315</td>\n",
       "      <td>0.171337</td>\n",
       "      <td>0.218344</td>\n",
       "      <td>0.031430</td>\n",
       "      <td>0.177442</td>\n",
       "      <td>-0.124456</td>\n",
       "      <td>-0.163919</td>\n",
       "    </tr>\n",
       "    <tr>\n",
       "      <th>HighBP</th>\n",
       "      <td>0.263129</td>\n",
       "      <td>1.000000</td>\n",
       "      <td>0.298199</td>\n",
       "      <td>0.098508</td>\n",
       "      <td>0.213748</td>\n",
       "      <td>0.096991</td>\n",
       "      <td>0.129575</td>\n",
       "      <td>0.209361</td>\n",
       "      <td>-0.125267</td>\n",
       "      <td>-0.040555</td>\n",
       "      <td>...</td>\n",
       "      <td>0.038425</td>\n",
       "      <td>0.017358</td>\n",
       "      <td>0.300530</td>\n",
       "      <td>0.056456</td>\n",
       "      <td>0.161212</td>\n",
       "      <td>0.223618</td>\n",
       "      <td>0.052207</td>\n",
       "      <td>0.344452</td>\n",
       "      <td>-0.141358</td>\n",
       "      <td>-0.171235</td>\n",
       "    </tr>\n",
       "    <tr>\n",
       "      <th>HighChol</th>\n",
       "      <td>0.200276</td>\n",
       "      <td>0.298199</td>\n",
       "      <td>1.000000</td>\n",
       "      <td>0.085642</td>\n",
       "      <td>0.106722</td>\n",
       "      <td>0.091299</td>\n",
       "      <td>0.092620</td>\n",
       "      <td>0.180765</td>\n",
       "      <td>-0.078046</td>\n",
       "      <td>-0.040859</td>\n",
       "      <td>...</td>\n",
       "      <td>0.042230</td>\n",
       "      <td>0.013310</td>\n",
       "      <td>0.208426</td>\n",
       "      <td>0.062069</td>\n",
       "      <td>0.121751</td>\n",
       "      <td>0.144672</td>\n",
       "      <td>0.031205</td>\n",
       "      <td>0.272318</td>\n",
       "      <td>-0.070802</td>\n",
       "      <td>-0.085459</td>\n",
       "    </tr>\n",
       "    <tr>\n",
       "      <th>CholCheck</th>\n",
       "      <td>0.064761</td>\n",
       "      <td>0.098508</td>\n",
       "      <td>0.085642</td>\n",
       "      <td>1.000000</td>\n",
       "      <td>0.034495</td>\n",
       "      <td>-0.009929</td>\n",
       "      <td>0.024158</td>\n",
       "      <td>0.044206</td>\n",
       "      <td>0.004190</td>\n",
       "      <td>0.023849</td>\n",
       "      <td>...</td>\n",
       "      <td>0.117626</td>\n",
       "      <td>-0.058255</td>\n",
       "      <td>0.046589</td>\n",
       "      <td>-0.008366</td>\n",
       "      <td>0.031775</td>\n",
       "      <td>0.040585</td>\n",
       "      <td>-0.022115</td>\n",
       "      <td>0.090321</td>\n",
       "      <td>0.001510</td>\n",
       "      <td>0.014259</td>\n",
       "    </tr>\n",
       "    <tr>\n",
       "      <th>BMI</th>\n",
       "      <td>0.216843</td>\n",
       "      <td>0.213748</td>\n",
       "      <td>0.106722</td>\n",
       "      <td>0.034495</td>\n",
       "      <td>1.000000</td>\n",
       "      <td>0.013804</td>\n",
       "      <td>0.020153</td>\n",
       "      <td>0.052904</td>\n",
       "      <td>-0.147294</td>\n",
       "      <td>-0.087518</td>\n",
       "      <td>...</td>\n",
       "      <td>-0.018471</td>\n",
       "      <td>0.058206</td>\n",
       "      <td>0.239185</td>\n",
       "      <td>0.085310</td>\n",
       "      <td>0.121141</td>\n",
       "      <td>0.197078</td>\n",
       "      <td>0.042950</td>\n",
       "      <td>-0.036618</td>\n",
       "      <td>-0.103932</td>\n",
       "      <td>-0.100069</td>\n",
       "    </tr>\n",
       "    <tr>\n",
       "      <th>Smoker</th>\n",
       "      <td>0.060789</td>\n",
       "      <td>0.096991</td>\n",
       "      <td>0.091299</td>\n",
       "      <td>-0.009929</td>\n",
       "      <td>0.013804</td>\n",
       "      <td>1.000000</td>\n",
       "      <td>0.061173</td>\n",
       "      <td>0.114441</td>\n",
       "      <td>-0.087401</td>\n",
       "      <td>-0.077666</td>\n",
       "      <td>...</td>\n",
       "      <td>-0.023251</td>\n",
       "      <td>0.048946</td>\n",
       "      <td>0.163143</td>\n",
       "      <td>0.092196</td>\n",
       "      <td>0.116460</td>\n",
       "      <td>0.122463</td>\n",
       "      <td>0.093662</td>\n",
       "      <td>0.120641</td>\n",
       "      <td>-0.161955</td>\n",
       "      <td>-0.123937</td>\n",
       "    </tr>\n",
       "    <tr>\n",
       "      <th>Stroke</th>\n",
       "      <td>0.105816</td>\n",
       "      <td>0.129575</td>\n",
       "      <td>0.092620</td>\n",
       "      <td>0.024158</td>\n",
       "      <td>0.020153</td>\n",
       "      <td>0.061173</td>\n",
       "      <td>1.000000</td>\n",
       "      <td>0.203002</td>\n",
       "      <td>-0.069151</td>\n",
       "      <td>-0.013389</td>\n",
       "      <td>...</td>\n",
       "      <td>0.008776</td>\n",
       "      <td>0.034804</td>\n",
       "      <td>0.177942</td>\n",
       "      <td>0.070172</td>\n",
       "      <td>0.148944</td>\n",
       "      <td>0.176567</td>\n",
       "      <td>0.002978</td>\n",
       "      <td>0.126974</td>\n",
       "      <td>-0.076009</td>\n",
       "      <td>-0.128599</td>\n",
       "    </tr>\n",
       "    <tr>\n",
       "      <th>HeartDiseaseorAttack</th>\n",
       "      <td>0.177282</td>\n",
       "      <td>0.209361</td>\n",
       "      <td>0.180765</td>\n",
       "      <td>0.044206</td>\n",
       "      <td>0.052904</td>\n",
       "      <td>0.114441</td>\n",
       "      <td>0.203002</td>\n",
       "      <td>1.000000</td>\n",
       "      <td>-0.087299</td>\n",
       "      <td>-0.019790</td>\n",
       "      <td>...</td>\n",
       "      <td>0.018734</td>\n",
       "      <td>0.031000</td>\n",
       "      <td>0.258383</td>\n",
       "      <td>0.064621</td>\n",
       "      <td>0.181698</td>\n",
       "      <td>0.212709</td>\n",
       "      <td>0.086096</td>\n",
       "      <td>0.221618</td>\n",
       "      <td>-0.099600</td>\n",
       "      <td>-0.141011</td>\n",
       "    </tr>\n",
       "    <tr>\n",
       "      <th>PhysActivity</th>\n",
       "      <td>-0.118133</td>\n",
       "      <td>-0.125267</td>\n",
       "      <td>-0.078046</td>\n",
       "      <td>0.004190</td>\n",
       "      <td>-0.147294</td>\n",
       "      <td>-0.087401</td>\n",
       "      <td>-0.069151</td>\n",
       "      <td>-0.087299</td>\n",
       "      <td>1.000000</td>\n",
       "      <td>0.142756</td>\n",
       "      <td>...</td>\n",
       "      <td>0.035505</td>\n",
       "      <td>-0.061638</td>\n",
       "      <td>-0.266186</td>\n",
       "      <td>-0.125587</td>\n",
       "      <td>-0.219230</td>\n",
       "      <td>-0.253174</td>\n",
       "      <td>0.032482</td>\n",
       "      <td>-0.092511</td>\n",
       "      <td>0.199658</td>\n",
       "      <td>0.198539</td>\n",
       "    </tr>\n",
       "    <tr>\n",
       "      <th>Fruits</th>\n",
       "      <td>-0.040779</td>\n",
       "      <td>-0.040555</td>\n",
       "      <td>-0.040859</td>\n",
       "      <td>0.023849</td>\n",
       "      <td>-0.087518</td>\n",
       "      <td>-0.077666</td>\n",
       "      <td>-0.013389</td>\n",
       "      <td>-0.019790</td>\n",
       "      <td>0.142756</td>\n",
       "      <td>1.000000</td>\n",
       "      <td>...</td>\n",
       "      <td>0.031544</td>\n",
       "      <td>-0.044243</td>\n",
       "      <td>-0.103854</td>\n",
       "      <td>-0.068217</td>\n",
       "      <td>-0.044633</td>\n",
       "      <td>-0.048352</td>\n",
       "      <td>-0.091175</td>\n",
       "      <td>0.064547</td>\n",
       "      <td>0.110187</td>\n",
       "      <td>0.079929</td>\n",
       "    </tr>\n",
       "    <tr>\n",
       "      <th>Veggies</th>\n",
       "      <td>-0.056584</td>\n",
       "      <td>-0.061266</td>\n",
       "      <td>-0.039874</td>\n",
       "      <td>0.006121</td>\n",
       "      <td>-0.062275</td>\n",
       "      <td>-0.030678</td>\n",
       "      <td>-0.041124</td>\n",
       "      <td>-0.039167</td>\n",
       "      <td>0.153150</td>\n",
       "      <td>0.254342</td>\n",
       "      <td>...</td>\n",
       "      <td>0.029584</td>\n",
       "      <td>-0.032232</td>\n",
       "      <td>-0.123066</td>\n",
       "      <td>-0.058884</td>\n",
       "      <td>-0.064290</td>\n",
       "      <td>-0.080506</td>\n",
       "      <td>-0.064765</td>\n",
       "      <td>-0.009771</td>\n",
       "      <td>0.154329</td>\n",
       "      <td>0.151087</td>\n",
       "    </tr>\n",
       "    <tr>\n",
       "      <th>HvyAlcoholConsump</th>\n",
       "      <td>-0.057056</td>\n",
       "      <td>-0.003972</td>\n",
       "      <td>-0.011543</td>\n",
       "      <td>-0.023730</td>\n",
       "      <td>-0.048736</td>\n",
       "      <td>0.101619</td>\n",
       "      <td>-0.016950</td>\n",
       "      <td>-0.028991</td>\n",
       "      <td>0.012392</td>\n",
       "      <td>-0.035288</td>\n",
       "      <td>...</td>\n",
       "      <td>-0.010488</td>\n",
       "      <td>0.004684</td>\n",
       "      <td>-0.036724</td>\n",
       "      <td>0.024716</td>\n",
       "      <td>-0.026415</td>\n",
       "      <td>-0.037668</td>\n",
       "      <td>0.005740</td>\n",
       "      <td>-0.034578</td>\n",
       "      <td>0.023997</td>\n",
       "      <td>0.053619</td>\n",
       "    </tr>\n",
       "    <tr>\n",
       "      <th>AnyHealthcare</th>\n",
       "      <td>0.016255</td>\n",
       "      <td>0.038425</td>\n",
       "      <td>0.042230</td>\n",
       "      <td>0.117626</td>\n",
       "      <td>-0.018471</td>\n",
       "      <td>-0.023251</td>\n",
       "      <td>0.008776</td>\n",
       "      <td>0.018734</td>\n",
       "      <td>0.035505</td>\n",
       "      <td>0.031544</td>\n",
       "      <td>...</td>\n",
       "      <td>1.000000</td>\n",
       "      <td>-0.232532</td>\n",
       "      <td>-0.040817</td>\n",
       "      <td>-0.052707</td>\n",
       "      <td>-0.008276</td>\n",
       "      <td>0.007074</td>\n",
       "      <td>-0.019405</td>\n",
       "      <td>0.138046</td>\n",
       "      <td>0.122514</td>\n",
       "      <td>0.157999</td>\n",
       "    </tr>\n",
       "    <tr>\n",
       "      <th>NoDocbcCost</th>\n",
       "      <td>0.031433</td>\n",
       "      <td>0.017358</td>\n",
       "      <td>0.013310</td>\n",
       "      <td>-0.058255</td>\n",
       "      <td>0.058206</td>\n",
       "      <td>0.048946</td>\n",
       "      <td>0.034804</td>\n",
       "      <td>0.031000</td>\n",
       "      <td>-0.061638</td>\n",
       "      <td>-0.044243</td>\n",
       "      <td>...</td>\n",
       "      <td>-0.232532</td>\n",
       "      <td>1.000000</td>\n",
       "      <td>0.166397</td>\n",
       "      <td>0.192107</td>\n",
       "      <td>0.148998</td>\n",
       "      <td>0.118447</td>\n",
       "      <td>-0.044931</td>\n",
       "      <td>-0.119777</td>\n",
       "      <td>-0.100701</td>\n",
       "      <td>-0.203182</td>\n",
       "    </tr>\n",
       "    <tr>\n",
       "      <th>GenHlth</th>\n",
       "      <td>0.293569</td>\n",
       "      <td>0.300530</td>\n",
       "      <td>0.208426</td>\n",
       "      <td>0.046589</td>\n",
       "      <td>0.239185</td>\n",
       "      <td>0.163143</td>\n",
       "      <td>0.177942</td>\n",
       "      <td>0.258383</td>\n",
       "      <td>-0.266186</td>\n",
       "      <td>-0.103854</td>\n",
       "      <td>...</td>\n",
       "      <td>-0.040817</td>\n",
       "      <td>0.166397</td>\n",
       "      <td>1.000000</td>\n",
       "      <td>0.301674</td>\n",
       "      <td>0.524364</td>\n",
       "      <td>0.456920</td>\n",
       "      <td>-0.006091</td>\n",
       "      <td>0.152450</td>\n",
       "      <td>-0.284912</td>\n",
       "      <td>-0.370014</td>\n",
       "    </tr>\n",
       "    <tr>\n",
       "      <th>MentHlth</th>\n",
       "      <td>0.069315</td>\n",
       "      <td>0.056456</td>\n",
       "      <td>0.062069</td>\n",
       "      <td>-0.008366</td>\n",
       "      <td>0.085310</td>\n",
       "      <td>0.092196</td>\n",
       "      <td>0.070172</td>\n",
       "      <td>0.064621</td>\n",
       "      <td>-0.125587</td>\n",
       "      <td>-0.068217</td>\n",
       "      <td>...</td>\n",
       "      <td>-0.052707</td>\n",
       "      <td>0.192107</td>\n",
       "      <td>0.301674</td>\n",
       "      <td>1.000000</td>\n",
       "      <td>0.353619</td>\n",
       "      <td>0.233688</td>\n",
       "      <td>-0.080705</td>\n",
       "      <td>-0.092068</td>\n",
       "      <td>-0.101830</td>\n",
       "      <td>-0.209806</td>\n",
       "    </tr>\n",
       "    <tr>\n",
       "      <th>PhysHlth</th>\n",
       "      <td>0.171337</td>\n",
       "      <td>0.161212</td>\n",
       "      <td>0.121751</td>\n",
       "      <td>0.031775</td>\n",
       "      <td>0.121141</td>\n",
       "      <td>0.116460</td>\n",
       "      <td>0.148944</td>\n",
       "      <td>0.181698</td>\n",
       "      <td>-0.219230</td>\n",
       "      <td>-0.044633</td>\n",
       "      <td>...</td>\n",
       "      <td>-0.008276</td>\n",
       "      <td>0.148998</td>\n",
       "      <td>0.524364</td>\n",
       "      <td>0.353619</td>\n",
       "      <td>1.000000</td>\n",
       "      <td>0.478417</td>\n",
       "      <td>-0.043137</td>\n",
       "      <td>0.099130</td>\n",
       "      <td>-0.155093</td>\n",
       "      <td>-0.266799</td>\n",
       "    </tr>\n",
       "    <tr>\n",
       "      <th>DiffWalk</th>\n",
       "      <td>0.218344</td>\n",
       "      <td>0.223618</td>\n",
       "      <td>0.144672</td>\n",
       "      <td>0.040585</td>\n",
       "      <td>0.197078</td>\n",
       "      <td>0.122463</td>\n",
       "      <td>0.176567</td>\n",
       "      <td>0.212709</td>\n",
       "      <td>-0.253174</td>\n",
       "      <td>-0.048352</td>\n",
       "      <td>...</td>\n",
       "      <td>0.007074</td>\n",
       "      <td>0.118447</td>\n",
       "      <td>0.456920</td>\n",
       "      <td>0.233688</td>\n",
       "      <td>0.478417</td>\n",
       "      <td>1.000000</td>\n",
       "      <td>-0.070299</td>\n",
       "      <td>0.204450</td>\n",
       "      <td>-0.192642</td>\n",
       "      <td>-0.320124</td>\n",
       "    </tr>\n",
       "    <tr>\n",
       "      <th>Sex</th>\n",
       "      <td>0.031430</td>\n",
       "      <td>0.052207</td>\n",
       "      <td>0.031205</td>\n",
       "      <td>-0.022115</td>\n",
       "      <td>0.042950</td>\n",
       "      <td>0.093662</td>\n",
       "      <td>0.002978</td>\n",
       "      <td>0.086096</td>\n",
       "      <td>0.032482</td>\n",
       "      <td>-0.091175</td>\n",
       "      <td>...</td>\n",
       "      <td>-0.019405</td>\n",
       "      <td>-0.044931</td>\n",
       "      <td>-0.006091</td>\n",
       "      <td>-0.080705</td>\n",
       "      <td>-0.043137</td>\n",
       "      <td>-0.070299</td>\n",
       "      <td>1.000000</td>\n",
       "      <td>-0.027340</td>\n",
       "      <td>0.019480</td>\n",
       "      <td>0.127141</td>\n",
       "    </tr>\n",
       "    <tr>\n",
       "      <th>Age</th>\n",
       "      <td>0.177442</td>\n",
       "      <td>0.344452</td>\n",
       "      <td>0.272318</td>\n",
       "      <td>0.090321</td>\n",
       "      <td>-0.036618</td>\n",
       "      <td>0.120641</td>\n",
       "      <td>0.126974</td>\n",
       "      <td>0.221618</td>\n",
       "      <td>-0.092511</td>\n",
       "      <td>0.064547</td>\n",
       "      <td>...</td>\n",
       "      <td>0.138046</td>\n",
       "      <td>-0.119777</td>\n",
       "      <td>0.152450</td>\n",
       "      <td>-0.092068</td>\n",
       "      <td>0.099130</td>\n",
       "      <td>0.204450</td>\n",
       "      <td>-0.027340</td>\n",
       "      <td>1.000000</td>\n",
       "      <td>-0.101901</td>\n",
       "      <td>-0.127775</td>\n",
       "    </tr>\n",
       "    <tr>\n",
       "      <th>Education</th>\n",
       "      <td>-0.124456</td>\n",
       "      <td>-0.141358</td>\n",
       "      <td>-0.070802</td>\n",
       "      <td>0.001510</td>\n",
       "      <td>-0.103932</td>\n",
       "      <td>-0.161955</td>\n",
       "      <td>-0.076009</td>\n",
       "      <td>-0.099600</td>\n",
       "      <td>0.199658</td>\n",
       "      <td>0.110187</td>\n",
       "      <td>...</td>\n",
       "      <td>0.122514</td>\n",
       "      <td>-0.100701</td>\n",
       "      <td>-0.284912</td>\n",
       "      <td>-0.101830</td>\n",
       "      <td>-0.155093</td>\n",
       "      <td>-0.192642</td>\n",
       "      <td>0.019480</td>\n",
       "      <td>-0.101901</td>\n",
       "      <td>1.000000</td>\n",
       "      <td>0.449106</td>\n",
       "    </tr>\n",
       "    <tr>\n",
       "      <th>Income</th>\n",
       "      <td>-0.163919</td>\n",
       "      <td>-0.171235</td>\n",
       "      <td>-0.085459</td>\n",
       "      <td>0.014259</td>\n",
       "      <td>-0.100069</td>\n",
       "      <td>-0.123937</td>\n",
       "      <td>-0.128599</td>\n",
       "      <td>-0.141011</td>\n",
       "      <td>0.198539</td>\n",
       "      <td>0.079929</td>\n",
       "      <td>...</td>\n",
       "      <td>0.157999</td>\n",
       "      <td>-0.203182</td>\n",
       "      <td>-0.370014</td>\n",
       "      <td>-0.209806</td>\n",
       "      <td>-0.266799</td>\n",
       "      <td>-0.320124</td>\n",
       "      <td>0.127141</td>\n",
       "      <td>-0.127775</td>\n",
       "      <td>0.449106</td>\n",
       "      <td>1.000000</td>\n",
       "    </tr>\n",
       "  </tbody>\n",
       "</table>\n",
       "<p>22 rows × 22 columns</p>\n",
       "</div>"
      ],
      "text/plain": [
       "                      Diabetes_yes_no    HighBP  HighChol  CholCheck  \\\n",
       "Diabetes_yes_no              1.000000  0.263129  0.200276   0.064761   \n",
       "HighBP                       0.263129  1.000000  0.298199   0.098508   \n",
       "HighChol                     0.200276  0.298199  1.000000   0.085642   \n",
       "CholCheck                    0.064761  0.098508  0.085642   1.000000   \n",
       "BMI                          0.216843  0.213748  0.106722   0.034495   \n",
       "Smoker                       0.060789  0.096991  0.091299  -0.009929   \n",
       "Stroke                       0.105816  0.129575  0.092620   0.024158   \n",
       "HeartDiseaseorAttack         0.177282  0.209361  0.180765   0.044206   \n",
       "PhysActivity                -0.118133 -0.125267 -0.078046   0.004190   \n",
       "Fruits                      -0.040779 -0.040555 -0.040859   0.023849   \n",
       "Veggies                     -0.056584 -0.061266 -0.039874   0.006121   \n",
       "HvyAlcoholConsump           -0.057056 -0.003972 -0.011543  -0.023730   \n",
       "AnyHealthcare                0.016255  0.038425  0.042230   0.117626   \n",
       "NoDocbcCost                  0.031433  0.017358  0.013310  -0.058255   \n",
       "GenHlth                      0.293569  0.300530  0.208426   0.046589   \n",
       "MentHlth                     0.069315  0.056456  0.062069  -0.008366   \n",
       "PhysHlth                     0.171337  0.161212  0.121751   0.031775   \n",
       "DiffWalk                     0.218344  0.223618  0.144672   0.040585   \n",
       "Sex                          0.031430  0.052207  0.031205  -0.022115   \n",
       "Age                          0.177442  0.344452  0.272318   0.090321   \n",
       "Education                   -0.124456 -0.141358 -0.070802   0.001510   \n",
       "Income                      -0.163919 -0.171235 -0.085459   0.014259   \n",
       "\n",
       "                           BMI    Smoker    Stroke  HeartDiseaseorAttack  \\\n",
       "Diabetes_yes_no       0.216843  0.060789  0.105816              0.177282   \n",
       "HighBP                0.213748  0.096991  0.129575              0.209361   \n",
       "HighChol              0.106722  0.091299  0.092620              0.180765   \n",
       "CholCheck             0.034495 -0.009929  0.024158              0.044206   \n",
       "BMI                   1.000000  0.013804  0.020153              0.052904   \n",
       "Smoker                0.013804  1.000000  0.061173              0.114441   \n",
       "Stroke                0.020153  0.061173  1.000000              0.203002   \n",
       "HeartDiseaseorAttack  0.052904  0.114441  0.203002              1.000000   \n",
       "PhysActivity         -0.147294 -0.087401 -0.069151             -0.087299   \n",
       "Fruits               -0.087518 -0.077666 -0.013389             -0.019790   \n",
       "Veggies              -0.062275 -0.030678 -0.041124             -0.039167   \n",
       "HvyAlcoholConsump    -0.048736  0.101619 -0.016950             -0.028991   \n",
       "AnyHealthcare        -0.018471 -0.023251  0.008776              0.018734   \n",
       "NoDocbcCost           0.058206  0.048946  0.034804              0.031000   \n",
       "GenHlth               0.239185  0.163143  0.177942              0.258383   \n",
       "MentHlth              0.085310  0.092196  0.070172              0.064621   \n",
       "PhysHlth              0.121141  0.116460  0.148944              0.181698   \n",
       "DiffWalk              0.197078  0.122463  0.176567              0.212709   \n",
       "Sex                   0.042950  0.093662  0.002978              0.086096   \n",
       "Age                  -0.036618  0.120641  0.126974              0.221618   \n",
       "Education            -0.103932 -0.161955 -0.076009             -0.099600   \n",
       "Income               -0.100069 -0.123937 -0.128599             -0.141011   \n",
       "\n",
       "                      PhysActivity    Fruits  ...  AnyHealthcare  NoDocbcCost  \\\n",
       "Diabetes_yes_no          -0.118133 -0.040779  ...       0.016255     0.031433   \n",
       "HighBP                   -0.125267 -0.040555  ...       0.038425     0.017358   \n",
       "HighChol                 -0.078046 -0.040859  ...       0.042230     0.013310   \n",
       "CholCheck                 0.004190  0.023849  ...       0.117626    -0.058255   \n",
       "BMI                      -0.147294 -0.087518  ...      -0.018471     0.058206   \n",
       "Smoker                   -0.087401 -0.077666  ...      -0.023251     0.048946   \n",
       "Stroke                   -0.069151 -0.013389  ...       0.008776     0.034804   \n",
       "HeartDiseaseorAttack     -0.087299 -0.019790  ...       0.018734     0.031000   \n",
       "PhysActivity              1.000000  0.142756  ...       0.035505    -0.061638   \n",
       "Fruits                    0.142756  1.000000  ...       0.031544    -0.044243   \n",
       "Veggies                   0.153150  0.254342  ...       0.029584    -0.032232   \n",
       "HvyAlcoholConsump         0.012392 -0.035288  ...      -0.010488     0.004684   \n",
       "AnyHealthcare             0.035505  0.031544  ...       1.000000    -0.232532   \n",
       "NoDocbcCost              -0.061638 -0.044243  ...      -0.232532     1.000000   \n",
       "GenHlth                  -0.266186 -0.103854  ...      -0.040817     0.166397   \n",
       "MentHlth                 -0.125587 -0.068217  ...      -0.052707     0.192107   \n",
       "PhysHlth                 -0.219230 -0.044633  ...      -0.008276     0.148998   \n",
       "DiffWalk                 -0.253174 -0.048352  ...       0.007074     0.118447   \n",
       "Sex                       0.032482 -0.091175  ...      -0.019405    -0.044931   \n",
       "Age                      -0.092511  0.064547  ...       0.138046    -0.119777   \n",
       "Education                 0.199658  0.110187  ...       0.122514    -0.100701   \n",
       "Income                    0.198539  0.079929  ...       0.157999    -0.203182   \n",
       "\n",
       "                       GenHlth  MentHlth  PhysHlth  DiffWalk       Sex  \\\n",
       "Diabetes_yes_no       0.293569  0.069315  0.171337  0.218344  0.031430   \n",
       "HighBP                0.300530  0.056456  0.161212  0.223618  0.052207   \n",
       "HighChol              0.208426  0.062069  0.121751  0.144672  0.031205   \n",
       "CholCheck             0.046589 -0.008366  0.031775  0.040585 -0.022115   \n",
       "BMI                   0.239185  0.085310  0.121141  0.197078  0.042950   \n",
       "Smoker                0.163143  0.092196  0.116460  0.122463  0.093662   \n",
       "Stroke                0.177942  0.070172  0.148944  0.176567  0.002978   \n",
       "HeartDiseaseorAttack  0.258383  0.064621  0.181698  0.212709  0.086096   \n",
       "PhysActivity         -0.266186 -0.125587 -0.219230 -0.253174  0.032482   \n",
       "Fruits               -0.103854 -0.068217 -0.044633 -0.048352 -0.091175   \n",
       "Veggies              -0.123066 -0.058884 -0.064290 -0.080506 -0.064765   \n",
       "HvyAlcoholConsump    -0.036724  0.024716 -0.026415 -0.037668  0.005740   \n",
       "AnyHealthcare        -0.040817 -0.052707 -0.008276  0.007074 -0.019405   \n",
       "NoDocbcCost           0.166397  0.192107  0.148998  0.118447 -0.044931   \n",
       "GenHlth               1.000000  0.301674  0.524364  0.456920 -0.006091   \n",
       "MentHlth              0.301674  1.000000  0.353619  0.233688 -0.080705   \n",
       "PhysHlth              0.524364  0.353619  1.000000  0.478417 -0.043137   \n",
       "DiffWalk              0.456920  0.233688  0.478417  1.000000 -0.070299   \n",
       "Sex                  -0.006091 -0.080705 -0.043137 -0.070299  1.000000   \n",
       "Age                   0.152450 -0.092068  0.099130  0.204450 -0.027340   \n",
       "Education            -0.284912 -0.101830 -0.155093 -0.192642  0.019480   \n",
       "Income               -0.370014 -0.209806 -0.266799 -0.320124  0.127141   \n",
       "\n",
       "                           Age  Education    Income  \n",
       "Diabetes_yes_no       0.177442  -0.124456 -0.163919  \n",
       "HighBP                0.344452  -0.141358 -0.171235  \n",
       "HighChol              0.272318  -0.070802 -0.085459  \n",
       "CholCheck             0.090321   0.001510  0.014259  \n",
       "BMI                  -0.036618  -0.103932 -0.100069  \n",
       "Smoker                0.120641  -0.161955 -0.123937  \n",
       "Stroke                0.126974  -0.076009 -0.128599  \n",
       "HeartDiseaseorAttack  0.221618  -0.099600 -0.141011  \n",
       "PhysActivity         -0.092511   0.199658  0.198539  \n",
       "Fruits                0.064547   0.110187  0.079929  \n",
       "Veggies              -0.009771   0.154329  0.151087  \n",
       "HvyAlcoholConsump    -0.034578   0.023997  0.053619  \n",
       "AnyHealthcare         0.138046   0.122514  0.157999  \n",
       "NoDocbcCost          -0.119777  -0.100701 -0.203182  \n",
       "GenHlth               0.152450  -0.284912 -0.370014  \n",
       "MentHlth             -0.092068  -0.101830 -0.209806  \n",
       "PhysHlth              0.099130  -0.155093 -0.266799  \n",
       "DiffWalk              0.204450  -0.192642 -0.320124  \n",
       "Sex                  -0.027340   0.019480  0.127141  \n",
       "Age                   1.000000  -0.101901 -0.127775  \n",
       "Education            -0.101901   1.000000  0.449106  \n",
       "Income               -0.127775   0.449106  1.000000  \n",
       "\n",
       "[22 rows x 22 columns]"
      ]
     },
     "execution_count": 42,
     "metadata": {},
     "output_type": "execute_result"
    }
   ],
   "source": [
    "df.corr()"
   ]
  },
  {
   "cell_type": "code",
   "execution_count": 43,
   "id": "43ca3831",
   "metadata": {
    "pycharm": {
     "name": "#%%\n"
    }
   },
   "outputs": [],
   "source": [
    "df['Diabetes'] = df['Diabetes_yes_no'].map({0:'No Diabetes', 1:'Diabetes'})"
   ]
  },
  {
   "cell_type": "code",
   "execution_count": 44,
   "id": "c584653f",
   "metadata": {
    "pycharm": {
     "name": "#%%\n"
    }
   },
   "outputs": [],
   "source": [
    "df['High_blood'] = df['HighBP'].map({0:'No High',1:'High BP'})\n",
    "df['High_Cholesterol'] = df['HighChol'].map({0:'No High Cholesterol',1:'High Cholesterol'})\n",
    "df['Heart_Attack'] = df['HeartDiseaseorAttack'].map({0:'No',1:'Yes'})\n",
    "df['Genral_Health'] = df['GenHlth'].map({1:'Excellent',2:'Very Good',3:'Good',4:'Fair',5:'Poor'})\n",
    "df['Difficulty_Walking'] = df['DiffWalk'].map({0:'No',1:'Yes'})\n",
    "df['Sex_Part'] = df['Sex'].map({0:'Female',1:'Male'})\n",
    "df['Age_level'] = df['Age'].map({1:'18-24',2:'25-30',3:'31-35',4:'36-40',5:'41-46',6:'47-51',7:'52-56',8:'57-61',9:'62-66',10:'67-71',11:'72-76',12:'77-80',13:'Over 80'})\n",
    "df['Education_level'] = df['Education'].map({1:'Never Attended School', 2:'primary',3:'preparatory',4:'secondary',5:'university',6:'graduate'})\n",
    "df['Income_level'] = df['Income'].map({1:'less than or equal 3000',2:'greater than 3000 and less than or equal 5000',3:'greater than 5000 and less than or equal 10000',4:'greater than 10000 and less than or equal 15000',5:'greater than 15000 and less than or equal 20000',6:'greater than 20000 and less than or equal 30000',7:'greater than 30000 and less than 45000',8:'45000 or More'})\n"
   ]
  },
  {
   "cell_type": "code",
   "execution_count": 45,
   "id": "ad8ee907",
   "metadata": {
    "pycharm": {
     "name": "#%%\n"
    }
   },
   "outputs": [
    {
     "data": {
      "text/html": [
       "<div>\n",
       "<style scoped>\n",
       "    .dataframe tbody tr th:only-of-type {\n",
       "        vertical-align: middle;\n",
       "    }\n",
       "\n",
       "    .dataframe tbody tr th {\n",
       "        vertical-align: top;\n",
       "    }\n",
       "\n",
       "    .dataframe thead th {\n",
       "        text-align: right;\n",
       "    }\n",
       "</style>\n",
       "<table border=\"1\" class=\"dataframe\">\n",
       "  <thead>\n",
       "    <tr style=\"text-align: right;\">\n",
       "      <th></th>\n",
       "      <th>Diabetes_yes_no</th>\n",
       "      <th>HighBP</th>\n",
       "      <th>HighChol</th>\n",
       "      <th>CholCheck</th>\n",
       "      <th>BMI</th>\n",
       "      <th>Smoker</th>\n",
       "      <th>Stroke</th>\n",
       "      <th>HeartDiseaseorAttack</th>\n",
       "      <th>PhysActivity</th>\n",
       "      <th>Fruits</th>\n",
       "      <th>...</th>\n",
       "      <th>Diabetes</th>\n",
       "      <th>High_blood</th>\n",
       "      <th>High_Cholesterol</th>\n",
       "      <th>Heart_Attack</th>\n",
       "      <th>Genral_Health</th>\n",
       "      <th>Difficulty_Walking</th>\n",
       "      <th>Sex_Part</th>\n",
       "      <th>Age_level</th>\n",
       "      <th>Education_level</th>\n",
       "      <th>Income_level</th>\n",
       "    </tr>\n",
       "  </thead>\n",
       "  <tbody>\n",
       "    <tr>\n",
       "      <th>0</th>\n",
       "      <td>0.0</td>\n",
       "      <td>1.0</td>\n",
       "      <td>1.0</td>\n",
       "      <td>1.0</td>\n",
       "      <td>40.0</td>\n",
       "      <td>1.0</td>\n",
       "      <td>0.0</td>\n",
       "      <td>0.0</td>\n",
       "      <td>0.0</td>\n",
       "      <td>0.0</td>\n",
       "      <td>...</td>\n",
       "      <td>No Diabetes</td>\n",
       "      <td>High BP</td>\n",
       "      <td>High Cholesterol</td>\n",
       "      <td>No</td>\n",
       "      <td>Poor</td>\n",
       "      <td>Yes</td>\n",
       "      <td>Female</td>\n",
       "      <td>62-66</td>\n",
       "      <td>secondary</td>\n",
       "      <td>greater than 5000 and less than or equal 10000</td>\n",
       "    </tr>\n",
       "    <tr>\n",
       "      <th>1</th>\n",
       "      <td>0.0</td>\n",
       "      <td>0.0</td>\n",
       "      <td>0.0</td>\n",
       "      <td>0.0</td>\n",
       "      <td>25.0</td>\n",
       "      <td>1.0</td>\n",
       "      <td>0.0</td>\n",
       "      <td>0.0</td>\n",
       "      <td>1.0</td>\n",
       "      <td>0.0</td>\n",
       "      <td>...</td>\n",
       "      <td>No Diabetes</td>\n",
       "      <td>No High</td>\n",
       "      <td>No High Cholesterol</td>\n",
       "      <td>No</td>\n",
       "      <td>Good</td>\n",
       "      <td>No</td>\n",
       "      <td>Female</td>\n",
       "      <td>52-56</td>\n",
       "      <td>graduate</td>\n",
       "      <td>less than or equal 3000</td>\n",
       "    </tr>\n",
       "    <tr>\n",
       "      <th>2</th>\n",
       "      <td>0.0</td>\n",
       "      <td>1.0</td>\n",
       "      <td>1.0</td>\n",
       "      <td>1.0</td>\n",
       "      <td>28.0</td>\n",
       "      <td>0.0</td>\n",
       "      <td>0.0</td>\n",
       "      <td>0.0</td>\n",
       "      <td>0.0</td>\n",
       "      <td>1.0</td>\n",
       "      <td>...</td>\n",
       "      <td>No Diabetes</td>\n",
       "      <td>High BP</td>\n",
       "      <td>High Cholesterol</td>\n",
       "      <td>No</td>\n",
       "      <td>Poor</td>\n",
       "      <td>Yes</td>\n",
       "      <td>Female</td>\n",
       "      <td>62-66</td>\n",
       "      <td>secondary</td>\n",
       "      <td>45000 or More</td>\n",
       "    </tr>\n",
       "    <tr>\n",
       "      <th>3</th>\n",
       "      <td>0.0</td>\n",
       "      <td>1.0</td>\n",
       "      <td>0.0</td>\n",
       "      <td>1.0</td>\n",
       "      <td>27.0</td>\n",
       "      <td>0.0</td>\n",
       "      <td>0.0</td>\n",
       "      <td>0.0</td>\n",
       "      <td>1.0</td>\n",
       "      <td>1.0</td>\n",
       "      <td>...</td>\n",
       "      <td>No Diabetes</td>\n",
       "      <td>High BP</td>\n",
       "      <td>No High Cholesterol</td>\n",
       "      <td>No</td>\n",
       "      <td>Very Good</td>\n",
       "      <td>No</td>\n",
       "      <td>Female</td>\n",
       "      <td>72-76</td>\n",
       "      <td>preparatory</td>\n",
       "      <td>greater than 20000 and less than or equal 30000</td>\n",
       "    </tr>\n",
       "    <tr>\n",
       "      <th>4</th>\n",
       "      <td>0.0</td>\n",
       "      <td>1.0</td>\n",
       "      <td>1.0</td>\n",
       "      <td>1.0</td>\n",
       "      <td>24.0</td>\n",
       "      <td>0.0</td>\n",
       "      <td>0.0</td>\n",
       "      <td>0.0</td>\n",
       "      <td>1.0</td>\n",
       "      <td>1.0</td>\n",
       "      <td>...</td>\n",
       "      <td>No Diabetes</td>\n",
       "      <td>High BP</td>\n",
       "      <td>High Cholesterol</td>\n",
       "      <td>No</td>\n",
       "      <td>Very Good</td>\n",
       "      <td>No</td>\n",
       "      <td>Female</td>\n",
       "      <td>72-76</td>\n",
       "      <td>university</td>\n",
       "      <td>greater than 10000 and less than or equal 15000</td>\n",
       "    </tr>\n",
       "  </tbody>\n",
       "</table>\n",
       "<p>5 rows × 32 columns</p>\n",
       "</div>"
      ],
      "text/plain": [
       "   Diabetes_yes_no  HighBP  HighChol  CholCheck   BMI  Smoker  Stroke  \\\n",
       "0              0.0     1.0       1.0        1.0  40.0     1.0     0.0   \n",
       "1              0.0     0.0       0.0        0.0  25.0     1.0     0.0   \n",
       "2              0.0     1.0       1.0        1.0  28.0     0.0     0.0   \n",
       "3              0.0     1.0       0.0        1.0  27.0     0.0     0.0   \n",
       "4              0.0     1.0       1.0        1.0  24.0     0.0     0.0   \n",
       "\n",
       "   HeartDiseaseorAttack  PhysActivity  Fruits  ...     Diabetes  High_blood  \\\n",
       "0                   0.0           0.0     0.0  ...  No Diabetes     High BP   \n",
       "1                   0.0           1.0     0.0  ...  No Diabetes     No High   \n",
       "2                   0.0           0.0     1.0  ...  No Diabetes     High BP   \n",
       "3                   0.0           1.0     1.0  ...  No Diabetes     High BP   \n",
       "4                   0.0           1.0     1.0  ...  No Diabetes     High BP   \n",
       "\n",
       "      High_Cholesterol  Heart_Attack  Genral_Health  Difficulty_Walking  \\\n",
       "0     High Cholesterol            No           Poor                 Yes   \n",
       "1  No High Cholesterol            No           Good                  No   \n",
       "2     High Cholesterol            No           Poor                 Yes   \n",
       "3  No High Cholesterol            No      Very Good                  No   \n",
       "4     High Cholesterol            No      Very Good                  No   \n",
       "\n",
       "   Sex_Part  Age_level  Education_level  \\\n",
       "0    Female      62-66        secondary   \n",
       "1    Female      52-56         graduate   \n",
       "2    Female      62-66        secondary   \n",
       "3    Female      72-76      preparatory   \n",
       "4    Female      72-76       university   \n",
       "\n",
       "                                      Income_level  \n",
       "0   greater than 5000 and less than or equal 10000  \n",
       "1                          less than or equal 3000  \n",
       "2                                    45000 or More  \n",
       "3  greater than 20000 and less than or equal 30000  \n",
       "4  greater than 10000 and less than or equal 15000  \n",
       "\n",
       "[5 rows x 32 columns]"
      ]
     },
     "execution_count": 45,
     "metadata": {},
     "output_type": "execute_result"
    }
   ],
   "source": [
    "df.head()"
   ]
  },
  {
   "cell_type": "code",
   "execution_count": 46,
   "id": "93dea901",
   "metadata": {
    "pycharm": {
     "name": "#%%\n"
    }
   },
   "outputs": [
    {
     "name": "stdout",
     "output_type": "stream",
     "text": [
      "<class 'pandas.core.frame.DataFrame'>\n",
      "RangeIndex: 253680 entries, 0 to 253679\n",
      "Data columns (total 32 columns):\n",
      " #   Column                Non-Null Count   Dtype  \n",
      "---  ------                --------------   -----  \n",
      " 0   Diabetes_yes_no       253680 non-null  float64\n",
      " 1   HighBP                253680 non-null  float64\n",
      " 2   HighChol              253680 non-null  float64\n",
      " 3   CholCheck             253680 non-null  float64\n",
      " 4   BMI                   253680 non-null  float64\n",
      " 5   Smoker                253680 non-null  float64\n",
      " 6   Stroke                253680 non-null  float64\n",
      " 7   HeartDiseaseorAttack  253680 non-null  float64\n",
      " 8   PhysActivity          253680 non-null  float64\n",
      " 9   Fruits                253680 non-null  float64\n",
      " 10  Veggies               253680 non-null  float64\n",
      " 11  HvyAlcoholConsump     253680 non-null  float64\n",
      " 12  AnyHealthcare         253680 non-null  float64\n",
      " 13  NoDocbcCost           253680 non-null  float64\n",
      " 14  GenHlth               253680 non-null  float64\n",
      " 15  MentHlth              253680 non-null  float64\n",
      " 16  PhysHlth              253680 non-null  float64\n",
      " 17  DiffWalk              253680 non-null  float64\n",
      " 18  Sex                   253680 non-null  float64\n",
      " 19  Age                   253680 non-null  float64\n",
      " 20  Education             253680 non-null  float64\n",
      " 21  Income                253680 non-null  float64\n",
      " 22  Diabetes              253680 non-null  object \n",
      " 23  High_blood            253680 non-null  object \n",
      " 24  High_Cholesterol      253680 non-null  object \n",
      " 25  Heart_Attack          253680 non-null  object \n",
      " 26  Genral_Health         253680 non-null  object \n",
      " 27  Difficulty_Walking    253680 non-null  object \n",
      " 28  Sex_Part              253680 non-null  object \n",
      " 29  Age_level             253680 non-null  object \n",
      " 30  Education_level       253680 non-null  object \n",
      " 31  Income_level          253680 non-null  object \n",
      "dtypes: float64(22), object(10)\n",
      "memory usage: 61.9+ MB\n"
     ]
    }
   ],
   "source": [
    "df.info()"
   ]
  },
  {
   "cell_type": "code",
   "execution_count": 47,
   "id": "3b224123",
   "metadata": {
    "pycharm": {
     "name": "#%%\n"
    }
   },
   "outputs": [
    {
     "name": "stdout",
     "output_type": "stream",
     "text": [
      "      Diabetes High_blood   Count\n",
      "0     Diabetes    High BP   26604\n",
      "1     Diabetes    No High    8742\n",
      "2  No Diabetes    High BP   82225\n",
      "3  No Diabetes    No High  136109\n"
     ]
    }
   ],
   "source": [
    "diabetes_bp = df.groupby(['Diabetes', 'High_blood']).size().reset_index(name = 'Count')\n",
    "print(diabetes_bp)"
   ]
  },
  {
   "cell_type": "code",
   "execution_count": 48,
   "id": "a99d2346",
   "metadata": {
    "pycharm": {
     "name": "#%%\n"
    }
   },
   "outputs": [
    {
     "name": "stdout",
     "output_type": "stream",
     "text": [
      "      Diabetes     High_Cholesterol   Count\n",
      "0     Diabetes     High Cholesterol   23686\n",
      "1     Diabetes  No High Cholesterol   11660\n",
      "2  No Diabetes     High Cholesterol   83905\n",
      "3  No Diabetes  No High Cholesterol  134429\n"
     ]
    }
   ],
   "source": [
    "diabetes_bp = df.groupby(['Diabetes', 'High_Cholesterol']).size().reset_index(name = 'Count')\n",
    "print(diabetes_bp)"
   ]
  },
  {
   "cell_type": "code",
   "execution_count": 49,
   "id": "c2167796",
   "metadata": {
    "pycharm": {
     "name": "#%%\n"
    }
   },
   "outputs": [
    {
     "name": "stdout",
     "output_type": "stream",
     "text": [
      "      Diabetes Heart_Attack   Count\n",
      "0     Diabetes           No   27468\n",
      "1     Diabetes          Yes    7878\n",
      "2  No Diabetes           No  202319\n",
      "3  No Diabetes          Yes   16015\n"
     ]
    }
   ],
   "source": [
    "diabetes_bp = df.groupby(['Diabetes', 'Heart_Attack']).size().reset_index(name = 'Count')\n",
    "print(diabetes_bp)"
   ]
  },
  {
   "cell_type": "code",
   "execution_count": 50,
   "id": "8daa5fa7",
   "metadata": {
    "pycharm": {
     "name": "#%%\n"
    }
   },
   "outputs": [
    {
     "name": "stdout",
     "output_type": "stream",
     "text": [
      "      Diabetes Genral_Health  Count\n",
      "0     Diabetes     Excellent   1140\n",
      "1     Diabetes          Fair   9790\n",
      "2     Diabetes          Good  13457\n",
      "3     Diabetes          Poor   4578\n",
      "4     Diabetes     Very Good   6381\n",
      "5  No Diabetes     Excellent  44159\n",
      "6  No Diabetes          Fair  21780\n",
      "7  No Diabetes          Good  62189\n",
      "8  No Diabetes          Poor   7503\n",
      "9  No Diabetes     Very Good  82703\n"
     ]
    }
   ],
   "source": [
    "diabetes_bp = df.groupby(['Diabetes', 'Genral_Health']).size().reset_index(name = 'Count')\n",
    "print(diabetes_bp)"
   ]
  },
  {
   "cell_type": "code",
   "execution_count": 51,
   "id": "2cc455bb",
   "metadata": {
    "pycharm": {
     "name": "#%%\n"
    }
   },
   "outputs": [
    {
     "name": "stdout",
     "output_type": "stream",
     "text": [
      "      Diabetes Difficulty_Walking   Count\n",
      "0     Diabetes                 No   22225\n",
      "1     Diabetes                Yes   13121\n",
      "2  No Diabetes                 No  188780\n",
      "3  No Diabetes                Yes   29554\n"
     ]
    }
   ],
   "source": [
    "diabetes_bp = df.groupby(['Diabetes', 'Difficulty_Walking']).size().reset_index(name ='Count')\n",
    "print(diabetes_bp)"
   ]
  },
  {
   "cell_type": "code",
   "execution_count": 52,
   "id": "cfcd5b27",
   "metadata": {
    "pycharm": {
     "name": "#%%\n"
    }
   },
   "outputs": [
    {
     "name": "stdout",
     "output_type": "stream",
     "text": [
      "      Diabetes Sex_Part   Count\n",
      "0     Diabetes   Female   18411\n",
      "1     Diabetes     Male   16935\n",
      "2  No Diabetes   Female  123563\n",
      "3  No Diabetes     Male   94771\n"
     ]
    }
   ],
   "source": [
    "diabetes_bp = df.groupby(['Diabetes','Sex_Part']).size().reset_index(name ='Count')\n",
    "print(diabetes_bp)"
   ]
  },
  {
   "cell_type": "code",
   "execution_count": 53,
   "id": "420fa5fc",
   "metadata": {
    "pycharm": {
     "name": "#%%\n"
    }
   },
   "outputs": [
    {
     "name": "stdout",
     "output_type": "stream",
     "text": [
      "       Diabetes Age_level  Count\n",
      "0      Diabetes     18-24     78\n",
      "1      Diabetes     25-30    140\n",
      "2      Diabetes     31-35    314\n",
      "3      Diabetes     36-40    626\n",
      "4      Diabetes     41-46   1051\n",
      "5      Diabetes     47-51   1742\n",
      "6      Diabetes     52-56   3088\n",
      "7      Diabetes     57-61   4263\n",
      "8      Diabetes     62-66   5733\n",
      "9      Diabetes     67-71   6558\n",
      "10     Diabetes     72-76   5141\n",
      "11     Diabetes     77-80   3403\n",
      "12     Diabetes   Over 80   3209\n",
      "13  No Diabetes     18-24   5622\n",
      "14  No Diabetes     25-30   7458\n",
      "15  No Diabetes     31-35  10809\n",
      "16  No Diabetes     36-40  13197\n",
      "17  No Diabetes     41-46  15106\n",
      "18  No Diabetes     47-51  18077\n",
      "19  No Diabetes     52-56  23226\n",
      "20  No Diabetes     57-61  26569\n",
      "21  No Diabetes     62-66  27511\n",
      "22  No Diabetes     67-71  25636\n",
      "23  No Diabetes     72-76  18392\n",
      "24  No Diabetes     77-80  12577\n",
      "25  No Diabetes   Over 80  14154\n"
     ]
    }
   ],
   "source": [
    "diabetes_bp = df.groupby(['Diabetes', 'Age_level']).size().reset_index(name = 'Count')\n",
    "print(diabetes_bp)"
   ]
  },
  {
   "cell_type": "code",
   "execution_count": 54,
   "id": "92601a30",
   "metadata": {
    "pycharm": {
     "name": "#%%\n"
    }
   },
   "outputs": [
    {
     "name": "stdout",
     "output_type": "stream",
     "text": [
      "       Diabetes        Education_level  Count\n",
      "0      Diabetes  Never Attended School     47\n",
      "1      Diabetes               graduate  10400\n",
      "2      Diabetes            preparatory   2296\n",
      "3      Diabetes                primary   1183\n",
      "4      Diabetes              secondary  11066\n",
      "5      Diabetes             university  10354\n",
      "6   No Diabetes  Never Attended School    127\n",
      "7   No Diabetes               graduate  96925\n",
      "8   No Diabetes            preparatory   7182\n",
      "9   No Diabetes                primary   2860\n",
      "10  No Diabetes              secondary  51684\n",
      "11  No Diabetes             university  59556\n"
     ]
    }
   ],
   "source": [
    "diabetes_bp = df.groupby(['Diabetes','Education_level']).size().reset_index(name ='Count')\n",
    "print(diabetes_bp)"
   ]
  },
  {
   "cell_type": "code",
   "execution_count": 55,
   "id": "b47b9652",
   "metadata": {
    "pycharm": {
     "name": "#%%\n"
    }
   },
   "outputs": [
    {
     "name": "stdout",
     "output_type": "stream",
     "text": [
      "       Diabetes                                     Income_level  Count\n",
      "0      Diabetes                                    45000 or More   7195\n",
      "1      Diabetes  greater than 10000 and less than or equal 15000   4054\n",
      "2      Diabetes  greater than 15000 and less than or equal 20000   4504\n",
      "3      Diabetes  greater than 20000 and less than or equal 30000   5291\n",
      "4      Diabetes    greater than 3000 and less than or equal 5000   3086\n",
      "5      Diabetes           greater than 30000 and less than 45000   5265\n",
      "6      Diabetes   greater than 5000 and less than or equal 10000   3568\n",
      "7      Diabetes                          less than or equal 3000   2383\n",
      "8   No Diabetes                                    45000 or More  83190\n",
      "9   No Diabetes  greater than 10000 and less than or equal 15000  16081\n",
      "10  No Diabetes  greater than 15000 and less than or equal 20000  21379\n",
      "11  No Diabetes  greater than 20000 and less than or equal 30000  31179\n",
      "12  No Diabetes    greater than 3000 and less than or equal 5000   8697\n",
      "13  No Diabetes           greater than 30000 and less than 45000  37954\n",
      "14  No Diabetes   greater than 5000 and less than or equal 10000  12426\n",
      "15  No Diabetes                          less than or equal 3000   7428\n"
     ]
    }
   ],
   "source": [
    "diabetes_bp = df.groupby(['Diabetes','Income_level']).size().reset_index(name ='Count')\n",
    "print(diabetes_bp)"
   ]
  },
  {
   "cell_type": "code",
   "execution_count": 56,
   "id": "9eb4fcbf",
   "metadata": {
    "pycharm": {
     "name": "#%%\n"
    }
   },
   "outputs": [
    {
     "data": {
      "text/plain": [
       "(253680, 32)"
      ]
     },
     "execution_count": 56,
     "metadata": {},
     "output_type": "execute_result"
    }
   ],
   "source": [
    "df.shape"
   ]
  },
  {
   "cell_type": "code",
   "execution_count": 57,
   "id": "1bfc04ea",
   "metadata": {
    "pycharm": {
     "name": "#%%\n"
    }
   },
   "outputs": [
    {
     "data": {
      "text/html": [
       "<div>\n",
       "<style scoped>\n",
       "    .dataframe tbody tr th:only-of-type {\n",
       "        vertical-align: middle;\n",
       "    }\n",
       "\n",
       "    .dataframe tbody tr th {\n",
       "        vertical-align: top;\n",
       "    }\n",
       "\n",
       "    .dataframe thead th {\n",
       "        text-align: right;\n",
       "    }\n",
       "</style>\n",
       "<table border=\"1\" class=\"dataframe\">\n",
       "  <thead>\n",
       "    <tr style=\"text-align: right;\">\n",
       "      <th></th>\n",
       "      <th>HighBP</th>\n",
       "      <th>HighChol</th>\n",
       "      <th>CholCheck</th>\n",
       "      <th>BMI</th>\n",
       "      <th>Smoker</th>\n",
       "      <th>Stroke</th>\n",
       "      <th>HeartDiseaseorAttack</th>\n",
       "      <th>PhysActivity</th>\n",
       "      <th>Fruits</th>\n",
       "      <th>Veggies</th>\n",
       "      <th>...</th>\n",
       "      <th>AnyHealthcare</th>\n",
       "      <th>NoDocbcCost</th>\n",
       "      <th>GenHlth</th>\n",
       "      <th>MentHlth</th>\n",
       "      <th>PhysHlth</th>\n",
       "      <th>DiffWalk</th>\n",
       "      <th>Sex</th>\n",
       "      <th>Age</th>\n",
       "      <th>Education</th>\n",
       "      <th>Income</th>\n",
       "    </tr>\n",
       "  </thead>\n",
       "  <tbody>\n",
       "    <tr>\n",
       "      <th>0</th>\n",
       "      <td>1.0</td>\n",
       "      <td>1.0</td>\n",
       "      <td>1.0</td>\n",
       "      <td>40.0</td>\n",
       "      <td>1.0</td>\n",
       "      <td>0.0</td>\n",
       "      <td>0.0</td>\n",
       "      <td>0.0</td>\n",
       "      <td>0.0</td>\n",
       "      <td>1.0</td>\n",
       "      <td>...</td>\n",
       "      <td>1.0</td>\n",
       "      <td>0.0</td>\n",
       "      <td>5.0</td>\n",
       "      <td>18.0</td>\n",
       "      <td>15.0</td>\n",
       "      <td>1.0</td>\n",
       "      <td>0.0</td>\n",
       "      <td>9.0</td>\n",
       "      <td>4.0</td>\n",
       "      <td>3.0</td>\n",
       "    </tr>\n",
       "    <tr>\n",
       "      <th>1</th>\n",
       "      <td>0.0</td>\n",
       "      <td>0.0</td>\n",
       "      <td>0.0</td>\n",
       "      <td>25.0</td>\n",
       "      <td>1.0</td>\n",
       "      <td>0.0</td>\n",
       "      <td>0.0</td>\n",
       "      <td>1.0</td>\n",
       "      <td>0.0</td>\n",
       "      <td>0.0</td>\n",
       "      <td>...</td>\n",
       "      <td>0.0</td>\n",
       "      <td>1.0</td>\n",
       "      <td>3.0</td>\n",
       "      <td>0.0</td>\n",
       "      <td>0.0</td>\n",
       "      <td>0.0</td>\n",
       "      <td>0.0</td>\n",
       "      <td>7.0</td>\n",
       "      <td>6.0</td>\n",
       "      <td>1.0</td>\n",
       "    </tr>\n",
       "    <tr>\n",
       "      <th>2</th>\n",
       "      <td>1.0</td>\n",
       "      <td>1.0</td>\n",
       "      <td>1.0</td>\n",
       "      <td>28.0</td>\n",
       "      <td>0.0</td>\n",
       "      <td>0.0</td>\n",
       "      <td>0.0</td>\n",
       "      <td>0.0</td>\n",
       "      <td>1.0</td>\n",
       "      <td>0.0</td>\n",
       "      <td>...</td>\n",
       "      <td>1.0</td>\n",
       "      <td>1.0</td>\n",
       "      <td>5.0</td>\n",
       "      <td>30.0</td>\n",
       "      <td>30.0</td>\n",
       "      <td>1.0</td>\n",
       "      <td>0.0</td>\n",
       "      <td>9.0</td>\n",
       "      <td>4.0</td>\n",
       "      <td>8.0</td>\n",
       "    </tr>\n",
       "    <tr>\n",
       "      <th>3</th>\n",
       "      <td>1.0</td>\n",
       "      <td>0.0</td>\n",
       "      <td>1.0</td>\n",
       "      <td>27.0</td>\n",
       "      <td>0.0</td>\n",
       "      <td>0.0</td>\n",
       "      <td>0.0</td>\n",
       "      <td>1.0</td>\n",
       "      <td>1.0</td>\n",
       "      <td>1.0</td>\n",
       "      <td>...</td>\n",
       "      <td>1.0</td>\n",
       "      <td>0.0</td>\n",
       "      <td>2.0</td>\n",
       "      <td>0.0</td>\n",
       "      <td>0.0</td>\n",
       "      <td>0.0</td>\n",
       "      <td>0.0</td>\n",
       "      <td>11.0</td>\n",
       "      <td>3.0</td>\n",
       "      <td>6.0</td>\n",
       "    </tr>\n",
       "    <tr>\n",
       "      <th>4</th>\n",
       "      <td>1.0</td>\n",
       "      <td>1.0</td>\n",
       "      <td>1.0</td>\n",
       "      <td>24.0</td>\n",
       "      <td>0.0</td>\n",
       "      <td>0.0</td>\n",
       "      <td>0.0</td>\n",
       "      <td>1.0</td>\n",
       "      <td>1.0</td>\n",
       "      <td>1.0</td>\n",
       "      <td>...</td>\n",
       "      <td>1.0</td>\n",
       "      <td>0.0</td>\n",
       "      <td>2.0</td>\n",
       "      <td>3.0</td>\n",
       "      <td>0.0</td>\n",
       "      <td>0.0</td>\n",
       "      <td>0.0</td>\n",
       "      <td>11.0</td>\n",
       "      <td>5.0</td>\n",
       "      <td>4.0</td>\n",
       "    </tr>\n",
       "  </tbody>\n",
       "</table>\n",
       "<p>5 rows × 21 columns</p>\n",
       "</div>"
      ],
      "text/plain": [
       "   HighBP  HighChol  CholCheck   BMI  Smoker  Stroke  HeartDiseaseorAttack  \\\n",
       "0     1.0       1.0        1.0  40.0     1.0     0.0                   0.0   \n",
       "1     0.0       0.0        0.0  25.0     1.0     0.0                   0.0   \n",
       "2     1.0       1.0        1.0  28.0     0.0     0.0                   0.0   \n",
       "3     1.0       0.0        1.0  27.0     0.0     0.0                   0.0   \n",
       "4     1.0       1.0        1.0  24.0     0.0     0.0                   0.0   \n",
       "\n",
       "   PhysActivity  Fruits  Veggies  ...  AnyHealthcare  NoDocbcCost  GenHlth  \\\n",
       "0           0.0     0.0      1.0  ...            1.0          0.0      5.0   \n",
       "1           1.0     0.0      0.0  ...            0.0          1.0      3.0   \n",
       "2           0.0     1.0      0.0  ...            1.0          1.0      5.0   \n",
       "3           1.0     1.0      1.0  ...            1.0          0.0      2.0   \n",
       "4           1.0     1.0      1.0  ...            1.0          0.0      2.0   \n",
       "\n",
       "   MentHlth  PhysHlth  DiffWalk  Sex   Age  Education  Income  \n",
       "0      18.0      15.0       1.0  0.0   9.0        4.0     3.0  \n",
       "1       0.0       0.0       0.0  0.0   7.0        6.0     1.0  \n",
       "2      30.0      30.0       1.0  0.0   9.0        4.0     8.0  \n",
       "3       0.0       0.0       0.0  0.0  11.0        3.0     6.0  \n",
       "4       3.0       0.0       0.0  0.0  11.0        5.0     4.0  \n",
       "\n",
       "[5 rows x 21 columns]"
      ]
     },
     "execution_count": 57,
     "metadata": {},
     "output_type": "execute_result"
    }
   ],
   "source": [
    "data_input = df[['HighBP', 'HighChol', 'CholCheck', 'BMI', 'Smoker',\n",
    "        'Stroke', 'HeartDiseaseorAttack', 'PhysActivity', 'Fruits', 'Veggies',\n",
    "        'HvyAlcoholConsump', 'AnyHealthcare', 'NoDocbcCost', 'GenHlth',\n",
    "        'MentHlth', 'PhysHlth', 'DiffWalk', 'Sex', 'Age', 'Education','Income']]\n",
    "data_output =  df['Diabetes_yes_no']\n",
    "data_input.head()"
   ]
  },
  {
   "cell_type": "code",
   "execution_count": 58,
   "id": "1377a35f",
   "metadata": {
    "pycharm": {
     "name": "#%%\n"
    }
   },
   "outputs": [],
   "source": [
    "x,x_test,y,y_test=train_test_split(data_input,data_output,test_size=0.33,random_state=2)\n",
    "x_train,x_val,y_train,y_val=train_test_split(x,y,test_size=0.33,random_state=2)"
   ]
  },
  {
   "cell_type": "code",
   "execution_count": 59,
   "id": "e66628c6",
   "metadata": {
    "pycharm": {
     "name": "#%%\n"
    }
   },
   "outputs": [
    {
     "name": "stdout",
     "output_type": "stream",
     "text": [
      "(56089, 21)\n",
      "(56089,)\n"
     ]
    }
   ],
   "source": [
    "print(x_val.shape)\n",
    "print(y_val.shape)"
   ]
  },
  {
   "cell_type": "code",
   "execution_count": 60,
   "id": "9e1667c0",
   "metadata": {
    "pycharm": {
     "name": "#%%\n"
    }
   },
   "outputs": [],
   "source": [
    "from sklearn.tree import DecisionTreeClassifier\n",
    "from sklearn.metrics import accuracy_score"
   ]
  },
  {
   "cell_type": "code",
   "execution_count": 61,
   "id": "246e700b",
   "metadata": {
    "pycharm": {
     "name": "#%%\n"
    }
   },
   "outputs": [],
   "source": [
    "model = DecisionTreeClassifier(max_depth=50)"
   ]
  },
  {
   "cell_type": "code",
   "execution_count": 62,
   "id": "09a28377",
   "metadata": {
    "pycharm": {
     "is_executing": true,
     "name": "#%%\n"
    }
   },
   "outputs": [
    {
     "data": {
      "text/plain": [
       "DecisionTreeClassifier(max_depth=50)"
      ]
     },
     "execution_count": 62,
     "metadata": {},
     "output_type": "execute_result"
    }
   ],
   "source": [
    "model.fit(x_train,y_train)"
   ]
  },
  {
   "cell_type": "code",
   "execution_count": 63,
   "id": "ed459626",
   "metadata": {
    "pycharm": {
     "name": "#%%\n"
    }
   },
   "outputs": [],
   "source": [
    "y_pred_train=model.predict(x_train)\n",
    "y_pred_val=model.predict(x_val)"
   ]
  },
  {
   "cell_type": "code",
   "execution_count": 64,
   "id": "63c26a9b",
   "metadata": {
    "pycharm": {
     "name": "#%%\n"
    }
   },
   "outputs": [
    {
     "name": "stdout",
     "output_type": "stream",
     "text": [
      "0.9959429554954512\n"
     ]
    }
   ],
   "source": [
    "print(accuracy_score(y_train,y_pred_train))"
   ]
  },
  {
   "cell_type": "code",
   "execution_count": 65,
   "id": "bd183917",
   "metadata": {
    "pycharm": {
     "name": "#%%\n"
    }
   },
   "outputs": [],
   "source": [
    "max_depth_values=[1,2,3,4,5,6,7,8,9,10,11]\n",
    "train_accuracy_values=[]\n",
    "val_accuracy_values=[]\n",
    "\n",
    "for max_depth_val in max_depth_values:\n",
    "    model=DecisionTreeClassifier(max_depth=max_depth_val,random_state=2)\n",
    "    model.fit(x_train,y_train)\n",
    "    y_pred_train=model.predict(x_train)\n",
    "    y_pred_val=model.predict(x_val)\n",
    "    acc_train=accuracy_score(y_train,y_pred_train)\n",
    "    acc_val=accuracy_score(y_val,y_pred_val)\n",
    "    train_accuracy_values.append(acc_train)\n",
    "    val_accuracy_values.append(acc_val)    "
   ]
  },
  {
   "cell_type": "code",
   "execution_count": 66,
   "id": "3db51e80",
   "metadata": {
    "pycharm": {
     "name": "#%%\n"
    }
   },
   "outputs": [
    {
     "data": {
      "image/png": "[encoded data removed]",
      "text/plain": [
       "<Figure size 432x288 with 1 Axes>"
      ]
     },
     "metadata": {
      "needs_background": "light"
     },
     "output_type": "display_data"
    }
   ],
   "source": [
    "plt.plot(max_depth_values,train_accuracy_values,label='acc train')\n",
    "plt.plot(max_depth_values,val_accuracy_values,label='val train')\n",
    "plt.legend()\n",
    "plt.grid(axis='both')\n",
    "plt.xlabel('max_depth')\n",
    "plt.ylabel('accuracy')\n",
    "plt.title('Effect of max_depth on accuracy')\n",
    "plt.show()"
   ]
  },
  {
   "cell_type": "code",
   "execution_count": 67,
   "id": "0982fb5e",
   "metadata": {
    "pycharm": {
     "name": "#%%\n"
    }
   },
   "outputs": [
    {
     "data": {
      "text/plain": [
       "DecisionTreeClassifier(max_depth=6, random_state=2)"
      ]
     },
     "execution_count": 67,
     "metadata": {},
     "output_type": "execute_result"
    }
   ],
   "source": [
    "model_best = DecisionTreeClassifier(max_depth=6,random_state=2)\n",
    "model_best.fit(x_train,y_train)"
   ]
  },
  {
   "cell_type": "code",
   "execution_count": 68,
   "id": "797d136c",
   "metadata": {
    "pycharm": {
     "name": "#%%\n"
    }
   },
   "outputs": [
    {
     "name": "stdout",
     "output_type": "stream",
     "text": [
      "0.8626769396165562\n"
     ]
    }
   ],
   "source": [
    "y_pred_test = model_best.predict(x_test)\n",
    "print(accuracy_score(y_test,y_pred_test))"
   ]
  },
  {
   "cell_type": "code",
   "execution_count": 69,
   "id": "ebd0fb27",
   "metadata": {
    "pycharm": {
     "name": "#%%\n"
    }
   },
   "outputs": [],
   "source": [
    "import pickle\n",
    "\n",
    "with open('saved.model.pickle','wb')as f:\n",
    "    pickle.dump(model_best,f)"
   ]
  },
  {
   "cell_type": "code",
   "execution_count": 70,
   "id": "f6411f2b",
   "metadata": {
    "pycharm": {
     "name": "#%%\n"
    }
   },
   "outputs": [],
   "source": [
    "with open('saved.model.pickle','rb')as f:\n",
    "    loaded_model = pickle.load(f)"
   ]
  },
  {
   "cell_type": "code",
   "execution_count": 71,
   "id": "37e5ea9d",
   "metadata": {
    "pycharm": {
     "name": "#%%\n"
    }
   },
   "outputs": [
    {
     "data": {
      "image/png": "[encoded data removed]",
      "text/plain": [
       "<Figure size 2880x2160 with 1 Axes>"
      ]
     },
     "metadata": {
      "needs_background": "light"
     },
     "output_type": "display_data"
    }
   ],
   "source": [
    "from sklearn import tree \n",
    "\n",
    "plt.figure(figsize=(40,30))\n",
    "\n",
    "tree.plot_tree(model_best,\n",
    "              feature_names=['HighBP', 'HighChol', 'CholCheck', 'BMI', 'Smoker',\n",
    "        'Stroke', 'HeartDiseaseorAttack', 'PhysActivity', 'Fruits', 'Veggies',\n",
    "        'HvyAlcoholConsump', 'AnyHealthcare', 'NoDocbcCost', 'GenHlth',\n",
    "        'MentHlth', 'PhysHlth', 'DiffWalk', 'Sex', 'Age', 'Education','Income',\n",
    "                            ],\n",
    "              class_names = ['YES','NO'],\n",
    "              filled=True\n",
    "              )\n",
    "plt.show()"
   ]
  },
  {
   "cell_type": "code",
   "execution_count": 72,
   "id": "2fcd19cd",
   "metadata": {
    "pycharm": {
     "name": "#%%\n"
    }
   },
   "outputs": [
    {
     "data": {
      "text/plain": [
       "array([4.04125446e-01, 7.29718060e-02, 0.00000000e+00, 1.46874650e-01,\n",
       "       0.00000000e+00, 0.00000000e+00, 5.79524931e-03, 0.00000000e+00,\n",
       "       0.00000000e+00, 0.00000000e+00, 0.00000000e+00, 0.00000000e+00,\n",
       "       0.00000000e+00, 3.03064066e-01, 0.00000000e+00, 2.64517616e-04,\n",
       "       5.64939107e-03, 0.00000000e+00, 6.04325048e-02, 0.00000000e+00,\n",
       "       8.22368756e-04])"
      ]
     },
     "execution_count": 72,
     "metadata": {},
     "output_type": "execute_result"
    }
   ],
   "source": [
    "model_best.feature_importances_"
   ]
  },
  {
   "cell_type": "code",
   "execution_count": 20,
   "id": "1e792e39",
   "metadata": {
    "pycharm": {
     "name": "#%%\n"
    }
   },
   "outputs": [
    {
     "data": {
      "image/png": "[encoded data removed]",
      "text/plain": [
       "<Figure size 432x288 with 1 Axes>"
      ]
     },
     "metadata": {
      "needs_background": "light"
     },
     "output_type": "display_data"
    }
   ],
   "source": [
    "feature_names=['HighBP', 'HighChol', 'CholCheck', 'BMI', 'Smoker',\n",
    "        'Stroke', 'HeartDiseaseorAttack', 'PhysActivity', 'Fruits', 'Veggies',\n",
    "        'HvyAlcoholConsump', 'AnyHealthcare', 'NoDocbcCost', 'GenHlth',\n",
    "        'MentHlth', 'PhysHlth', 'DiffWalk', 'Sex', 'Age', 'Education','Income',\n",
    "                            ]\n",
    "plt.bar(feature_names,model_best.feature_importances_)\n",
    "plt.xlabel('features')\n",
    "plt.xticks(rotation=90)\n",
    "plt.ylabel('importances')\n",
    "plt.title('feature importance')\n",
    "plt.show()"
   ]
  },
  {
   "cell_type": "code",
   "execution_count": 118,
   "id": "1fe54701",
   "metadata": {},
   "outputs": [
    {
     "name": "stdout",
     "output_type": "stream",
     "text": [
      "Accuracy =  0.8776124907794443\n",
      "Precision =  0.6519993307679438\n",
      "Recall =  0.24736574838136346\n",
      "F1 Score =  0.35865813814366576\n"
     ]
    }
   ],
   "source": [
    "print(\"Accuracy = \",accuracy_score(y_train,y_pred_train))\n",
    "print(\"Precision = \",precision_score(y_train,y_pred_train))\n",
    "print(\"Recall = \",recall_score(y_train,y_pred_train))\n",
    "print(\"F1 Score = \",f1_score(y_train,y_pred_train))"
   ]
  },
  {
   "cell_type": "code",
   "execution_count": 147,
   "id": "b6bfb4c6",
   "metadata": {},
   "outputs": [
    {
     "ename": "AttributeError",
     "evalue": "'NearMiss' object has no attribute 'fit_sample'",
     "output_type": "error",
     "traceback": [
      "\u001b[1;31m---------------------------------------------------------------------------\u001b[0m",
      "\u001b[1;31mAttributeError\u001b[0m                            Traceback (most recent call last)",
      "Input \u001b[1;32mIn [147]\u001b[0m, in \u001b[0;36m<cell line: 3>\u001b[1;34m()\u001b[0m\n\u001b[0;32m      1\u001b[0m \u001b[38;5;28;01mfrom\u001b[39;00m \u001b[38;5;21;01mimblearn\u001b[39;00m\u001b[38;5;21;01m.\u001b[39;00m\u001b[38;5;21;01munder_sampling\u001b[39;00m \u001b[38;5;28;01mimport\u001b[39;00m NearMiss\n\u001b[0;32m      2\u001b[0m df \u001b[38;5;241m=\u001b[39m NearMiss()\n\u001b[1;32m----> 3\u001b[0m X_res,y_res\u001b[38;5;241m=\u001b[39m\u001b[43mdf\u001b[49m\u001b[38;5;241;43m.\u001b[39;49m\u001b[43mfit_sample\u001b[49m(X,Y)\n\u001b[0;32m      4\u001b[0m X_res\u001b[38;5;241m.\u001b[39mshape,y_res\u001b[38;5;241m.\u001b[39mshape\n",
      "\u001b[1;31mAttributeError\u001b[0m: 'NearMiss' object has no attribute 'fit_sample'"
     ]
    }
   ],
   "source": []
  },
  {
   "cell_type": "code",
   "execution_count": null,
   "id": "fe3024e1",
   "metadata": {},
   "outputs": [],
   "source": []
  }
 ],
 "metadata": {
  "kernelspec": {
   "display_name": "Python 3 (ipykernel)",
   "language": "python",
   "name": "python3"
  },
  "language_info": {
   "codemirror_mode": {
    "name": "ipython",
    "version": 3
   },
   "file_extension": ".py",
   "mimetype": "text/x-python",
   "name": "python",
   "nbconvert_exporter": "python",
   "pygments_lexer": "ipython3",
   "version": "3.9.12"
  }
 },
 "nbformat": 4,
 "nbformat_minor": 5
}
