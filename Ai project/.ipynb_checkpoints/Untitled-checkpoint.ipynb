{
 "cells": [
  {
   "cell_type": "code",
   "execution_count": null,
   "id": "d5877e76",
   "metadata": {},
   "outputs": [],
   "source": [
    "from sklearn.datasets import make_classification\n",
    "import pandas as pd\n",
    "import numpy as np\n",
    "import matplotlib.pyplot as plt\n",
    "import seaborn as sns\n",
    "from sklearn.model_selection import train_test_split\n",
    "from sklearn.ensemble import RandomForestClassifier\n",
    "from sklearn.metrics import confusion_matrix, classification_report\n",
    "from imblearn.over_sampling import RandomOverSampler, SMOTE\n",
    "from imblearn.under_sampling import RandomUnderSampler, NearMiss\n",
    "from collections import Counter"
   ]
  },
  {
   "cell_type": "code",
   "execution_count": null,
   "id": "88a2bee8",
   "metadata": {},
   "outputs": [],
   "source": [
    "df=pd.read_csv(\"diabetes_binary_health_indicators_BRFSS2015.csv\")\n",
    "df.head()"
   ]
  },
  {
   "cell_type": "code",
   "execution_count": null,
   "id": "d5f5f667",
   "metadata": {},
   "outputs": [],
   "source": [
    "x = df[['HighBP', 'HighChol', 'CholCheck', 'BMI', 'Smoker',\n",
    "        'Stroke', 'HeartDiseaseorAttack', 'PhysActivity', 'Fruits', 'Veggies',\n",
    "        'HvyAlcoholConsump', 'AnyHealthcare', 'NoDocbcCost', 'GenHlth',\n",
    "        'MentHlth', 'PhysHlth', 'DiffWalk', 'Sex', 'Age', 'Education','Income']]\n",
    "y =  df['Diabetes_binary']\n",
    "x.head()"
   ]
  },
  {
   "cell_type": "code",
   "execution_count": null,
   "id": "ffcb7260",
   "metadata": {},
   "outputs": [],
   "source": [
    "df['Diabetes_binary'].value_counts(normalize = True)"
   ]
  },
  {
   "cell_type": "code",
   "execution_count": null,
   "id": "7b41c0e3",
   "metadata": {},
   "outputs": [],
   "source": [
    "df['Diabetes_binary'].value_counts()"
   ]
  },
  {
   "cell_type": "code",
   "execution_count": null,
   "id": "7f093e8b",
   "metadata": {},
   "outputs": [],
   "source": [
    "x_train,x_test,y_train,y_test=train_test_split(x,y,test_size=0.33,random_state=42)\n",
    "print('the number of records in the training dataset is ',x_train.shape[0])\n",
    "print('the number of records in the test dataset is ',x_test.shape[0])"
   ]
  },
  {
   "cell_type": "code",
   "execution_count": null,
   "id": "c81210c5",
   "metadata": {},
   "outputs": [],
   "source": [
    "print(sorted(Counter(y_train).items()))"
   ]
  },
  {
   "cell_type": "code",
   "execution_count": null,
   "id": "f892222e",
   "metadata": {},
   "outputs": [],
   "source": [
    "rf=RandomForestClassifier()\n",
    "baseline_model = rf.fit(x_train,y_train)\n",
    "baseline_predection=baseline_model.predict(x_test)\n",
    "print(classification_report(y_test,baseline_predection))"
   ]
  },
  {
   "cell_type": "code",
   "execution_count": null,
   "id": "344a3766",
   "metadata": {},
   "outputs": [],
   "source": [
    "ros = RandomOverSampler(random_state=42)\n",
    "x_train_ros,y_train_ros=ros.fit_resample(x_train,y_train)\n",
    "print(sorted(counter(y_train_ros).items()))"
   ]
  },
  {
   "cell_type": "code",
   "execution_count": null,
   "id": "cd2eb4e5",
   "metadata": {},
   "outputs": [],
   "source": [
    "ros_model = rf.fit(x_train_ros,y_train_ros)\n",
    "ros_predection = ros_model.predict(x_test)\n",
    "print(classification_report(y_test,ros_prediction))"
   ]
  },
  {
   "cell_type": "code",
   "execution_count": null,
   "id": "393f40f1",
   "metadata": {},
   "outputs": [],
   "source": [
    "smote = SMOTE(random_state=42)\n",
    "x_train_smote,y_train_smote=smote.fit_resample(x_train,y_train)\n",
    "print(sorted(Counter(y_train_smote).items()))"
   ]
  },
  {
   "cell_type": "code",
   "execution_count": null,
   "id": "5fbb444c",
   "metadata": {},
   "outputs": [],
   "source": [
    "smote_model = rf.fit(x_train_smote,y_train_smote)\n",
    "smote_predection = smote_model.predict(x_test)\n",
    "print(classification_report(y_test,smote_prediction))"
   ]
  }
 ],
 "metadata": {
  "kernelspec": {
   "display_name": "Python 3 (ipykernel)",
   "language": "python",
   "name": "python3"
  },
  "language_info": {
   "codemirror_mode": {
    "name": "ipython",
    "version": 3
   },
   "file_extension": ".py",
   "mimetype": "text/x-python",
   "name": "python",
   "nbconvert_exporter": "python",
   "pygments_lexer": "ipython3",
   "version": "3.9.12"
  }
 },
 "nbformat": 4,
 "nbformat_minor": 5
}
